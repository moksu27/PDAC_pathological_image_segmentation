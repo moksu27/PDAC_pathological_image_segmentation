{
 "cells": [
  {
   "cell_type": "code",
   "execution_count": 3,
   "metadata": {},
   "outputs": [],
   "source": [
    "import openslide\n",
    "from openslide.deepzoom import DeepZoomGenerator"
   ]
  },
  {
   "cell_type": "code",
   "execution_count": 57,
   "metadata": {},
   "outputs": [],
   "source": [
    "slide = openslide.OpenSlide(\"git_ignore/PDA_svs_img/C3L-01637-21.svs\")"
   ]
  },
  {
   "cell_type": "code",
   "execution_count": 58,
   "metadata": {},
   "outputs": [],
   "source": [
    "tiles = DeepZoomGenerator(slide, tile_size=512, overlap=0, limit_bounds= False)"
   ]
  },
  {
   "cell_type": "code",
   "execution_count": 59,
   "metadata": {},
   "outputs": [
    {
     "name": "stdout",
     "output_type": "stream",
     "text": [
      "The number of levels in the tiles object are: 15\n",
      "The dimensions of data in each level are: ((1, 1), (2, 2), (4, 4), (8, 7), (16, 13), (32, 26), (63, 51), (125, 102), (249, 203), (498, 405), (996, 810), (1992, 1620), (3984, 3240), (7968, 6480), (15935, 12960))\n",
      "Total number of tiles = : 1126\n",
      "Tiles shape at level 14 is (32, 26)\n"
     ]
    }
   ],
   "source": [
    "print(f\"The number of levels in the tiles object are: {tiles.level_count}\")\n",
    "print(f\"The dimensions of data in each level are: {tiles.level_dimensions}\")\n",
    "print(f\"Total number of tiles = : {tiles.tile_count}\")\n",
    "print(f\"Tiles shape at level {14} is {tiles.level_tiles[14]}\")\n"
   ]
  },
  {
   "cell_type": "code",
   "execution_count": 60,
   "metadata": {},
   "outputs": [],
   "source": [
    "single_tile = tiles.get_tile(14,(13,21))\n",
    "single_tile_RGB = single_tile.convert(\"RGB\")\n",
    "single_tile_RGB.show()"
   ]
  },
  {
   "cell_type": "code",
   "execution_count": 81,
   "metadata": {},
   "outputs": [],
   "source": [
    "single_tile = tiles.get_tile_coordinates(14,(2,0))"
   ]
  },
  {
   "cell_type": "code",
   "execution_count": 82,
   "metadata": {},
   "outputs": [
    {
     "data": {
      "text/plain": [
       "((1024, 0), 0, (512, 512))"
      ]
     },
     "execution_count": 82,
     "metadata": {},
     "output_type": "execute_result"
    }
   ],
   "source": [
    "single_tile"
   ]
  }
 ],
 "metadata": {
  "kernelspec": {
   "display_name": "lion",
   "language": "python",
   "name": "python3"
  },
  "language_info": {
   "codemirror_mode": {
    "name": "ipython",
    "version": 3
   },
   "file_extension": ".py",
   "mimetype": "text/x-python",
   "name": "python",
   "nbconvert_exporter": "python",
   "pygments_lexer": "ipython3",
   "version": "3.9.15"
  },
  "orig_nbformat": 4
 },
 "nbformat": 4,
 "nbformat_minor": 2
}
