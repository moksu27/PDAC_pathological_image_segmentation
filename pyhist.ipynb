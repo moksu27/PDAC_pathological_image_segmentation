{
 "cells": [
  {
   "cell_type": "code",
   "execution_count": 1,
   "metadata": {},
   "outputs": [],
   "source": [
    "import openslide\n",
    "import glob\n",
    "import pandas as pd\n"
   ]
  },
  {
   "cell_type": "code",
   "execution_count": 2,
   "metadata": {},
   "outputs": [],
   "source": [
    "outpath = \"/Users/moksu/Desktop/pathology_image_project/git_ignore/PDA_mask_img/pyhist\"\n",
    "svspath = \"/Users/moksu/Desktop/pathology_image_project/git_ignore/PDA_svs_img/C3L-01637-21.svs\""
   ]
  },
  {
   "cell_type": "code",
   "execution_count": 6,
   "metadata": {
    "vscode": {
     "languageId": "shellscript"
    }
   },
   "outputs": [
    {
     "name": "stdout",
     "output_type": "stream",
     "text": [
      "/Users/moksu/Desktop/pathology_image_project/git_ignore/PyHIST\n"
     ]
    }
   ],
   "source": [
    "%cd git_ignore/PyHIST"
   ]
  },
  {
   "cell_type": "code",
   "execution_count": 7,
   "metadata": {
    "vscode": {
     "languageId": "shellscript"
    }
   },
   "outputs": [
    {
     "name": "stdout",
     "output_type": "stream",
     "text": [
      "15-06-2023 16:16:28 [INFO]: == Producing edge image ==\n",
      "15-06-2023 16:16:29 [DEBUG]: Requested 16x downsampling for edge detection.\n",
      "15-06-2023 16:16:29 [DEBUG]: SVS level 0 dimensions:(15935, 12960)\n",
      "15-06-2023 16:16:29 [DEBUG]: Using level 2 to downsample.\n",
      "15-06-2023 16:16:29 [DEBUG]: Downsampled size: (995, 810)\n",
      "15-06-2023 16:16:29 [DEBUG]: Elapsed time: 0.136s\n",
      "15-06-2023 16:16:29 [INFO]: == Segmentation over the mask ==\n",
      "15-06-2023 16:16:29 [DEBUG]: Elapsed time: 0.135s\n",
      "15-06-2023 16:16:29 [DEBUG]: ** Original image information **\n",
      "15-06-2023 16:16:29 [DEBUG]: -Dimensions: (15935, 12960)\n",
      "15-06-2023 16:16:29 [DEBUG]: ** Mask information **\n",
      "15-06-2023 16:16:29 [DEBUG]: -Mask downscaling factor: 16\n",
      "15-06-2023 16:16:29 [DEBUG]: -Pixel dimensions: (995, 810)\n",
      "15-06-2023 16:16:29 [DEBUG]: -Calculated patch size: 32\n",
      "15-06-2023 16:16:29 [DEBUG]: -Max tile coordinates: (32, 26)\n",
      "15-06-2023 16:16:29 [DEBUG]: -Number of tiles: 832\n",
      "15-06-2023 16:16:29 [DEBUG]: ** Output image information **\n",
      "15-06-2023 16:16:29 [DEBUG]: Requested 1x downsampling for output.\n",
      "15-06-2023 16:16:29 [DEBUG]: ** Properties of selected deep zoom level **\n",
      "15-06-2023 16:16:29 [DEBUG]: -Real downscaling factor: 1.0\n",
      "15-06-2023 16:16:29 [DEBUG]: -Pixel dimensions: (15935, 12960)\n",
      "15-06-2023 16:16:29 [DEBUG]: -Selected patch size: 512\n",
      "15-06-2023 16:16:29 [DEBUG]: -Max tile coordinates: (32, 26)\n",
      "15-06-2023 16:16:29 [DEBUG]: -Number of tiles: 832\n",
      "15-06-2023 16:16:29 [INFO]: == Selecting tiles ==\n",
      "15-06-2023 16:16:50 [DEBUG]: Elapsed time: 21.044s\n",
      "15-06-2023 16:16:50 [DEBUG]: Selected 832 tiles\n"
     ]
    }
   ],
   "source": [
    "!python pyhist.py \\\n",
    "        --patch-size 512 \\\n",
    "        --output-downsample 1 \\\n",
    "        --save-patches \\\n",
    "        --save-tilecrossed-image \\\n",
    "        --save-blank \\\n",
    "        --content-threshold 0.05 \\\n",
    "        --info \"verbose\" \\\n",
    "        --output \"$outpath\" \\\n",
    "        --minimum_segmentsize 500 \\\n",
    "        \"$svspath\""
   ]
  },
  {
   "cell_type": "code",
   "execution_count": 9,
   "metadata": {},
   "outputs": [
    {
     "data": {
      "text/html": [
       "<div>\n",
       "<style scoped>\n",
       "    .dataframe tbody tr th:only-of-type {\n",
       "        vertical-align: middle;\n",
       "    }\n",
       "\n",
       "    .dataframe tbody tr th {\n",
       "        vertical-align: top;\n",
       "    }\n",
       "\n",
       "    .dataframe thead th {\n",
       "        text-align: right;\n",
       "    }\n",
       "</style>\n",
       "<table border=\"1\" class=\"dataframe\">\n",
       "  <thead>\n",
       "    <tr style=\"text-align: right;\">\n",
       "      <th></th>\n",
       "      <th>Tile</th>\n",
       "      <th>Width</th>\n",
       "      <th>Height</th>\n",
       "      <th>Keep</th>\n",
       "      <th>Row</th>\n",
       "      <th>Column</th>\n",
       "    </tr>\n",
       "  </thead>\n",
       "  <tbody>\n",
       "    <tr>\n",
       "      <th>0</th>\n",
       "      <td>C3L-01637-21_000</td>\n",
       "      <td>512</td>\n",
       "      <td>512</td>\n",
       "      <td>0</td>\n",
       "      <td>0</td>\n",
       "      <td>0</td>\n",
       "    </tr>\n",
       "    <tr>\n",
       "      <th>1</th>\n",
       "      <td>C3L-01637-21_001</td>\n",
       "      <td>512</td>\n",
       "      <td>512</td>\n",
       "      <td>0</td>\n",
       "      <td>0</td>\n",
       "      <td>1</td>\n",
       "    </tr>\n",
       "    <tr>\n",
       "      <th>2</th>\n",
       "      <td>C3L-01637-21_002</td>\n",
       "      <td>512</td>\n",
       "      <td>512</td>\n",
       "      <td>0</td>\n",
       "      <td>0</td>\n",
       "      <td>2</td>\n",
       "    </tr>\n",
       "    <tr>\n",
       "      <th>3</th>\n",
       "      <td>C3L-01637-21_003</td>\n",
       "      <td>512</td>\n",
       "      <td>512</td>\n",
       "      <td>0</td>\n",
       "      <td>0</td>\n",
       "      <td>3</td>\n",
       "    </tr>\n",
       "    <tr>\n",
       "      <th>4</th>\n",
       "      <td>C3L-01637-21_004</td>\n",
       "      <td>512</td>\n",
       "      <td>512</td>\n",
       "      <td>0</td>\n",
       "      <td>0</td>\n",
       "      <td>4</td>\n",
       "    </tr>\n",
       "    <tr>\n",
       "      <th>...</th>\n",
       "      <td>...</td>\n",
       "      <td>...</td>\n",
       "      <td>...</td>\n",
       "      <td>...</td>\n",
       "      <td>...</td>\n",
       "      <td>...</td>\n",
       "    </tr>\n",
       "    <tr>\n",
       "      <th>827</th>\n",
       "      <td>C3L-01637-21_827</td>\n",
       "      <td>512</td>\n",
       "      <td>160</td>\n",
       "      <td>0</td>\n",
       "      <td>25</td>\n",
       "      <td>27</td>\n",
       "    </tr>\n",
       "    <tr>\n",
       "      <th>828</th>\n",
       "      <td>C3L-01637-21_828</td>\n",
       "      <td>512</td>\n",
       "      <td>160</td>\n",
       "      <td>0</td>\n",
       "      <td>25</td>\n",
       "      <td>28</td>\n",
       "    </tr>\n",
       "    <tr>\n",
       "      <th>829</th>\n",
       "      <td>C3L-01637-21_829</td>\n",
       "      <td>512</td>\n",
       "      <td>160</td>\n",
       "      <td>0</td>\n",
       "      <td>25</td>\n",
       "      <td>29</td>\n",
       "    </tr>\n",
       "    <tr>\n",
       "      <th>830</th>\n",
       "      <td>C3L-01637-21_830</td>\n",
       "      <td>512</td>\n",
       "      <td>160</td>\n",
       "      <td>0</td>\n",
       "      <td>25</td>\n",
       "      <td>30</td>\n",
       "    </tr>\n",
       "    <tr>\n",
       "      <th>831</th>\n",
       "      <td>C3L-01637-21_831</td>\n",
       "      <td>63</td>\n",
       "      <td>160</td>\n",
       "      <td>0</td>\n",
       "      <td>25</td>\n",
       "      <td>31</td>\n",
       "    </tr>\n",
       "  </tbody>\n",
       "</table>\n",
       "<p>832 rows × 6 columns</p>\n",
       "</div>"
      ],
      "text/plain": [
       "                 Tile  Width  Height  Keep  Row  Column\n",
       "0    C3L-01637-21_000    512     512     0    0       0\n",
       "1    C3L-01637-21_001    512     512     0    0       1\n",
       "2    C3L-01637-21_002    512     512     0    0       2\n",
       "3    C3L-01637-21_003    512     512     0    0       3\n",
       "4    C3L-01637-21_004    512     512     0    0       4\n",
       "..                ...    ...     ...   ...  ...     ...\n",
       "827  C3L-01637-21_827    512     160     0   25      27\n",
       "828  C3L-01637-21_828    512     160     0   25      28\n",
       "829  C3L-01637-21_829    512     160     0   25      29\n",
       "830  C3L-01637-21_830    512     160     0   25      30\n",
       "831  C3L-01637-21_831     63     160     0   25      31\n",
       "\n",
       "[832 rows x 6 columns]"
      ]
     },
     "execution_count": 9,
     "metadata": {},
     "output_type": "execute_result"
    }
   ],
   "source": [
    "pd.read_csv(\"/Users/moksu/Desktop/pathology_image_project/git_ignore/PDA_mask_img/pyhist/C3L-01637-21/tile_selection.tsv\", sep='\\t')"
   ]
  },
  {
   "cell_type": "code",
   "execution_count": null,
   "metadata": {},
   "outputs": [],
   "source": []
  }
 ],
 "metadata": {
  "kernelspec": {
   "display_name": "lion",
   "language": "python",
   "name": "python3"
  },
  "language_info": {
   "codemirror_mode": {
    "name": "ipython",
    "version": 3
   },
   "file_extension": ".py",
   "mimetype": "text/x-python",
   "name": "python",
   "nbconvert_exporter": "python",
   "pygments_lexer": "ipython3",
   "version": "3.9.15"
  },
  "orig_nbformat": 4
 },
 "nbformat": 4,
 "nbformat_minor": 2
}
