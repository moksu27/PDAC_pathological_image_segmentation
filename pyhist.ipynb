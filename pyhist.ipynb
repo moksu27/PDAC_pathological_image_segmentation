{
 "cells": [
  {
   "cell_type": "code",
<<<<<<< HEAD
   "execution_count": 181,
=======
   "execution_count": 101,
>>>>>>> 6d0f27c90aa766647099974103e140d927bf7e54
   "metadata": {},
   "outputs": [],
   "source": [
    "from glob import glob"
   ]
  },
  {
   "cell_type": "code",
<<<<<<< HEAD
   "execution_count": 182,
=======
   "execution_count": 102,
>>>>>>> 6d0f27c90aa766647099974103e140d927bf7e54
   "metadata": {},
   "outputs": [
    {
     "name": "stdout",
     "output_type": "stream",
     "text": [
      "380\n"
     ]
    },
    {
     "data": {
      "text/plain": [
<<<<<<< HEAD
       "'/workspace/git_ignore/PDA_tumor/C3N-00511-23.svs'"
      ]
     },
     "execution_count": 182,
=======
       "'/workspace/git_ignore/PDA_tumor/C3L-02809-24.svs'"
      ]
     },
     "execution_count": 102,
>>>>>>> 6d0f27c90aa766647099974103e140d927bf7e54
     "metadata": {},
     "output_type": "execute_result"
    }
   ],
   "source": [
<<<<<<< HEAD
    "outpath = \"/workspace/git_ignore/PDA_unlabeled_tile(1024)\"\n",
    "svspath = \"/workspace/git_ignore/PDA_tumor\"\n",
    "svs = sorted(glob(f\"{svspath}/*\"))[226]\n",
=======
    "outpath = \"/workspace/git_ignore/PDA_tumor_tile\"\n",
    "svspath = \"/workspace/git_ignore/PDA_tumor\"\n",
    "svs = sorted(glob(f\"{svspath}/*\"))[131]\n",
>>>>>>> 6d0f27c90aa766647099974103e140d927bf7e54
    "print(len(sorted(glob(f\"{svspath}/*\"))))\n",
    "svs"
   ]
  },
  {
   "cell_type": "code",
<<<<<<< HEAD
   "execution_count": 183,
=======
   "execution_count": 103,
>>>>>>> 6d0f27c90aa766647099974103e140d927bf7e54
   "metadata": {},
   "outputs": [
    {
     "data": {
      "text/plain": [
       "'/workspace/git_ignore/PDA_tumor'"
      ]
     },
<<<<<<< HEAD
     "execution_count": 183,
=======
     "execution_count": 103,
>>>>>>> 6d0f27c90aa766647099974103e140d927bf7e54
     "metadata": {},
     "output_type": "execute_result"
    }
   ],
   "source": [
    "svspath"
   ]
  },
  {
   "cell_type": "code",
<<<<<<< HEAD
   "execution_count": 184,
=======
   "execution_count": 104,
>>>>>>> 6d0f27c90aa766647099974103e140d927bf7e54
   "metadata": {
    "vscode": {
     "languageId": "shellscript"
    }
   },
   "outputs": [
    {
     "name": "stdout",
     "output_type": "stream",
     "text": [
      "/workspace/git_ignore/PyHIST\n"
     ]
    }
   ],
   "source": [
    "%cd /workspace/git_ignore/PyHIST"
   ]
  },
  {
   "cell_type": "code",
<<<<<<< HEAD
   "execution_count": 185,
=======
   "execution_count": 105,
>>>>>>> 6d0f27c90aa766647099974103e140d927bf7e54
   "metadata": {
    "vscode": {
     "languageId": "shellscript"
    }
   },
   "outputs": [
    {
     "name": "stdout",
     "output_type": "stream",
     "text": [
<<<<<<< HEAD
      "18-07-2023 18:21:12 [INFO]: == Producing edge image ==\n",
      "18-07-2023 18:21:12 [DEBUG]: Requested 16x downsampling for edge detection.\n",
      "18-07-2023 18:21:12 [DEBUG]: SVS level 0 dimensions:(49799, 26976)\n",
      "18-07-2023 18:21:12 [DEBUG]: Using level 2 to downsample.\n",
      "18-07-2023 18:21:12 [DEBUG]: Downsampled size: (3112, 1686)\n",
      "18-07-2023 18:21:12 [DEBUG]: Elapsed time: 0.293s\n",
      "18-07-2023 18:21:12 [INFO]: == Segmentation over the mask ==\n",
      "18-07-2023 18:21:13 [DEBUG]: Elapsed time: 1.243s\n",
      "18-07-2023 18:21:14 [DEBUG]: ** Original image information **\n",
      "18-07-2023 18:21:14 [DEBUG]: -Dimensions: (49799, 26976)\n",
      "18-07-2023 18:21:14 [DEBUG]: ** Mask information **\n",
      "18-07-2023 18:21:14 [DEBUG]: -Mask downscaling factor: 16\n",
      "18-07-2023 18:21:14 [DEBUG]: -Pixel dimensions: (3112, 1686)\n",
      "18-07-2023 18:21:14 [DEBUG]: -Calculated patch size: 64\n",
      "18-07-2023 18:21:14 [DEBUG]: -Max tile coordinates: (49, 27)\n",
      "18-07-2023 18:21:14 [DEBUG]: -Number of tiles: 1323\n",
      "18-07-2023 18:21:14 [DEBUG]: ** Output image information **\n",
      "18-07-2023 18:21:14 [DEBUG]: Requested 1x downsampling for output.\n",
      "18-07-2023 18:21:14 [DEBUG]: ** Properties of selected deep zoom level **\n",
      "18-07-2023 18:21:14 [DEBUG]: -Real downscaling factor: 1.0\n",
      "18-07-2023 18:21:14 [DEBUG]: -Pixel dimensions: (49799, 26976)\n",
      "18-07-2023 18:21:14 [DEBUG]: -Selected patch size: 1024\n",
      "18-07-2023 18:21:14 [DEBUG]: -Max tile coordinates: (49, 27)\n",
      "18-07-2023 18:21:14 [DEBUG]: -Number of tiles: 1323\n",
      "18-07-2023 18:21:14 [INFO]: == Selecting tiles ==\n",
      "18-07-2023 18:22:18 [DEBUG]: Elapsed time: 63.728s\n",
      "18-07-2023 18:22:18 [DEBUG]: Selected 79 tiles\n"
=======
      "14-07-2023 17:42:22 [INFO]: == Producing edge image ==\n",
      "14-07-2023 17:42:22 [DEBUG]: Requested 16x downsampling for edge detection.\n",
      "14-07-2023 17:42:22 [DEBUG]: SVS level 0 dimensions:(25895, 30760)\n",
      "14-07-2023 17:42:22 [DEBUG]: Using level 2 to downsample.\n",
      "14-07-2023 17:42:22 [DEBUG]: Downsampled size: (1618, 1922)\n",
      "14-07-2023 17:42:22 [DEBUG]: Elapsed time: 0.188s\n",
      "14-07-2023 17:42:22 [INFO]: == Segmentation over the mask ==\n",
      "14-07-2023 17:42:23 [DEBUG]: Elapsed time: 0.882s\n",
      "14-07-2023 17:42:24 [DEBUG]: ** Original image information **\n",
      "14-07-2023 17:42:24 [DEBUG]: -Dimensions: (25895, 30760)\n",
      "14-07-2023 17:42:24 [DEBUG]: ** Mask information **\n",
      "14-07-2023 17:42:24 [DEBUG]: -Mask downscaling factor: 16\n",
      "14-07-2023 17:42:24 [DEBUG]: -Pixel dimensions: (1618, 1922)\n",
      "14-07-2023 17:42:24 [DEBUG]: -Calculated patch size: 64\n",
      "14-07-2023 17:42:24 [DEBUG]: -Max tile coordinates: (26, 31)\n",
      "14-07-2023 17:42:24 [DEBUG]: -Number of tiles: 806\n",
      "14-07-2023 17:42:24 [DEBUG]: ** Output image information **\n",
      "14-07-2023 17:42:24 [DEBUG]: Requested 1x downsampling for output.\n",
      "14-07-2023 17:42:24 [DEBUG]: ** Properties of selected deep zoom level **\n",
      "14-07-2023 17:42:24 [DEBUG]: -Real downscaling factor: 1.0\n",
      "14-07-2023 17:42:24 [DEBUG]: -Pixel dimensions: (25895, 30760)\n",
      "14-07-2023 17:42:24 [DEBUG]: -Selected patch size: 1024\n",
      "14-07-2023 17:42:24 [DEBUG]: -Max tile coordinates: (26, 31)\n",
      "14-07-2023 17:42:24 [DEBUG]: -Number of tiles: 806\n",
      "14-07-2023 17:42:24 [INFO]: == Selecting tiles ==\n",
      "14-07-2023 17:43:35 [DEBUG]: Elapsed time: 71.092s\n",
      "14-07-2023 17:43:35 [DEBUG]: Selected 207 tiles\n"
>>>>>>> 6d0f27c90aa766647099974103e140d927bf7e54
     ]
    }
   ],
   "source": [
    "!python pyhist.py \\\n",
    "        --patch-size 1024 \\\n",
    "        --output-downsample 1 \\\n",
    "        --save-patches \\\n",
    "        --save-tilecrossed-image \\\n",
    "        --content-threshold 0.3 \\\n",
    "        --info \"verbose\" \\\n",
    "        --output \"$outpath\" \\\n",
    "        --minimum_segmentsize 500 \\\n",
    "        \"$svs\""
   ]
  }
 ],
 "metadata": {
  "kernelspec": {
   "display_name": "lion",
   "language": "python",
   "name": "python3"
  },
  "language_info": {
   "codemirror_mode": {
    "name": "ipython",
    "version": 3
   },
   "file_extension": ".py",
   "mimetype": "text/x-python",
   "name": "python",
   "nbconvert_exporter": "python",
   "pygments_lexer": "ipython3",
   "version": "3.10.11"
  },
  "orig_nbformat": 4
 },
 "nbformat": 4,
 "nbformat_minor": 2
}
