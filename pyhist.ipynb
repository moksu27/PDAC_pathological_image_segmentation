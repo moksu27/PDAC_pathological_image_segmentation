{
 "cells": [
  {
   "cell_type": "code",
   "execution_count": 346,
   "metadata": {},
   "outputs": [],
   "source": [
    "from glob import glob"
   ]
  },
  {
   "cell_type": "code",
   "execution_count": 347,
   "metadata": {},
   "outputs": [
    {
     "ename": "IndexError",
     "evalue": "list index out of range",
     "output_type": "error",
     "traceback": [
      "\u001b[0;31m---------------------------------------------------------------------------\u001b[0m",
      "\u001b[0;31mIndexError\u001b[0m                                Traceback (most recent call last)",
      "Cell \u001b[0;32mIn[347], line 3\u001b[0m\n\u001b[1;32m      1\u001b[0m outpath \u001b[39m=\u001b[39m \u001b[39m\"\u001b[39m\u001b[39m/workspace/git_ignore/PDA_unlabeled_tile(1024)\u001b[39m\u001b[39m\"\u001b[39m\n\u001b[1;32m      2\u001b[0m svspath \u001b[39m=\u001b[39m \u001b[39m\"\u001b[39m\u001b[39m/workspace/git_ignore/PDA_tumor\u001b[39m\u001b[39m\"\u001b[39m\n\u001b[0;32m----> 3\u001b[0m svs \u001b[39m=\u001b[39m \u001b[39msorted\u001b[39;49m(glob(\u001b[39mf\u001b[39;49m\u001b[39m\"\u001b[39;49m\u001b[39m{\u001b[39;49;00msvspath\u001b[39m}\u001b[39;49;00m\u001b[39m/*\u001b[39;49m\u001b[39m\"\u001b[39;49m))[\u001b[39m380\u001b[39;49m]\n\u001b[1;32m      4\u001b[0m \u001b[39mprint\u001b[39m(\u001b[39mlen\u001b[39m(\u001b[39msorted\u001b[39m(glob(\u001b[39mf\u001b[39m\u001b[39m\"\u001b[39m\u001b[39m{\u001b[39;00msvspath\u001b[39m}\u001b[39;00m\u001b[39m/*\u001b[39m\u001b[39m\"\u001b[39m))))\n\u001b[1;32m      5\u001b[0m svs\n",
      "\u001b[0;31mIndexError\u001b[0m: list index out of range"
     ]
    }
   ],
   "source": [
    "outpath = \"/workspace/git_ignore/PDA_unlabeled_tile(1024)\"\n",
    "svspath = \"/workspace/git_ignore/PDA_tumor\"\n",
    "svs = sorted(glob(f\"{svspath}/*\"))[380]\n",
    "print(len(sorted(glob(f\"{svspath}/*\"))))\n",
    "svs"
   ]
  },
  {
   "cell_type": "code",
   "execution_count": null,
   "metadata": {},
   "outputs": [
    {
     "data": {
      "text/plain": [
       "'/workspace/git_ignore/PDA_tumor'"
      ]
     },
     "execution_count": 343,
     "metadata": {},
     "output_type": "execute_result"
    }
   ],
   "source": [
    "svspath"
   ]
  },
  {
   "cell_type": "code",
   "execution_count": null,
   "metadata": {
    "vscode": {
     "languageId": "shellscript"
    }
   },
   "outputs": [
    {
     "name": "stdout",
     "output_type": "stream",
     "text": [
      "/workspace/git_ignore/PyHIST\n"
     ]
    }
   ],
   "source": [
    "%cd /workspace/git_ignore/PyHIST"
   ]
  },
  {
   "cell_type": "code",
   "execution_count": null,
   "metadata": {
    "vscode": {
     "languageId": "shellscript"
    }
   },
   "outputs": [
    {
     "name": "stdout",
     "output_type": "stream",
     "text": [
      "21-07-2023 15:13:11 [INFO]: == Producing edge image ==\n",
      "21-07-2023 15:13:12 [DEBUG]: Requested 16x downsampling for edge detection.\n",
      "21-07-2023 15:13:12 [DEBUG]: SVS level 0 dimensions:(91632, 30908)\n",
      "21-07-2023 15:13:12 [DEBUG]: Using level 2 to downsample.\n",
      "21-07-2023 15:13:12 [DEBUG]: Downsampled size: (5727, 1931)\n",
      "21-07-2023 15:13:12 [DEBUG]: Elapsed time: 0.861s\n",
      "21-07-2023 15:13:12 [INFO]: == Segmentation over the mask ==\n",
      "21-07-2023 15:13:15 [DEBUG]: Elapsed time: 2.839s\n",
      "21-07-2023 15:13:25 [DEBUG]: ** Original image information **\n",
      "21-07-2023 15:13:25 [DEBUG]: -Dimensions: (91632, 30908)\n",
      "21-07-2023 15:13:25 [DEBUG]: ** Mask information **\n",
      "21-07-2023 15:13:25 [DEBUG]: -Mask downscaling factor: 16\n",
      "21-07-2023 15:13:25 [DEBUG]: -Pixel dimensions: (5727, 1931)\n",
      "21-07-2023 15:13:25 [DEBUG]: -Calculated patch size: 64\n",
      "21-07-2023 15:13:25 [DEBUG]: -Max tile coordinates: (90, 31)\n",
      "21-07-2023 15:13:25 [DEBUG]: -Number of tiles: 2790\n",
      "21-07-2023 15:13:25 [DEBUG]: ** Output image information **\n",
      "21-07-2023 15:13:25 [DEBUG]: Requested 1x downsampling for output.\n",
      "21-07-2023 15:13:25 [DEBUG]: ** Properties of selected deep zoom level **\n",
      "21-07-2023 15:13:25 [DEBUG]: -Real downscaling factor: 1.0\n",
      "21-07-2023 15:13:25 [DEBUG]: -Pixel dimensions: (91632, 30908)\n",
      "21-07-2023 15:13:25 [DEBUG]: -Selected patch size: 1024\n",
      "21-07-2023 15:13:25 [DEBUG]: -Max tile coordinates: (90, 31)\n",
      "21-07-2023 15:13:25 [DEBUG]: -Number of tiles: 2790\n",
      "21-07-2023 15:13:25 [INFO]: == Selecting tiles ==\n",
      "21-07-2023 15:15:36 [DEBUG]: Elapsed time: 131.762s\n",
      "21-07-2023 15:15:36 [DEBUG]: Selected 133 tiles\n"
     ]
    }
   ],
   "source": [
    "!python pyhist_original.py \\\n",
    "        --patch-size 1024 \\\n",
    "        --output-downsample 1 \\\n",
    "        --save-patches \\\n",
    "        --save-tilecrossed-image \\\n",
    "        --content-threshold 0.3 \\\n",
    "        --info \"verbose\" \\\n",
    "        --output \"$outpath\" \\\n",
    "        --minimum_segmentsize 500 \\\n",
    "        \"$svs\""
   ]
  }
 ],
 "metadata": {
  "kernelspec": {
   "display_name": "lion",
   "language": "python",
   "name": "python3"
  },
  "language_info": {
   "codemirror_mode": {
    "name": "ipython",
    "version": 3
   },
   "file_extension": ".py",
   "mimetype": "text/x-python",
   "name": "python",
   "nbconvert_exporter": "python",
   "pygments_lexer": "ipython3",
   "version": "3.10.11"
  },
  "orig_nbformat": 4
 },
 "nbformat": 4,
 "nbformat_minor": 2
}
