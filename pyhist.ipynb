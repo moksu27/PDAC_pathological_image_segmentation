{
 "cells": [
  {
   "cell_type": "code",
   "execution_count": 101,
   "metadata": {},
   "outputs": [],
   "source": [
    "from glob import glob"
   ]
  },
  {
   "cell_type": "code",
   "execution_count": 102,
   "metadata": {},
   "outputs": [
    {
     "name": "stdout",
     "output_type": "stream",
     "text": [
      "380\n"
     ]
    },
    {
     "data": {
      "text/plain": [
       "'/workspace/git_ignore/PDA_tumor/C3L-02809-24.svs'"
      ]
     },
     "execution_count": 102,
     "metadata": {},
     "output_type": "execute_result"
    }
   ],
   "source": [
    "outpath = \"/workspace/git_ignore/PDA_tumor_tile\"\n",
    "svspath = \"/workspace/git_ignore/PDA_tumor\"\n",
    "svs = sorted(glob(f\"{svspath}/*\"))[131]\n",
    "print(len(sorted(glob(f\"{svspath}/*\"))))\n",
    "svs"
   ]
  },
  {
   "cell_type": "code",
   "execution_count": 103,
   "metadata": {},
   "outputs": [
    {
     "data": {
      "text/plain": [
       "'/workspace/git_ignore/PDA_tumor'"
      ]
     },
     "execution_count": 103,
     "metadata": {},
     "output_type": "execute_result"
    }
   ],
   "source": [
    "svspath"
   ]
  },
  {
   "cell_type": "code",
   "execution_count": 104,
   "metadata": {
    "vscode": {
     "languageId": "shellscript"
    }
   },
   "outputs": [
    {
     "name": "stdout",
     "output_type": "stream",
     "text": [
      "/workspace/git_ignore/PyHIST\n"
     ]
    }
   ],
   "source": [
    "%cd /workspace/git_ignore/PyHIST"
   ]
  },
  {
   "cell_type": "code",
   "execution_count": 105,
   "metadata": {
    "vscode": {
     "languageId": "shellscript"
    }
   },
   "outputs": [
    {
     "name": "stdout",
     "output_type": "stream",
     "text": [
      "14-07-2023 17:42:22 [INFO]: == Producing edge image ==\n",
      "14-07-2023 17:42:22 [DEBUG]: Requested 16x downsampling for edge detection.\n",
      "14-07-2023 17:42:22 [DEBUG]: SVS level 0 dimensions:(25895, 30760)\n",
      "14-07-2023 17:42:22 [DEBUG]: Using level 2 to downsample.\n",
      "14-07-2023 17:42:22 [DEBUG]: Downsampled size: (1618, 1922)\n",
      "14-07-2023 17:42:22 [DEBUG]: Elapsed time: 0.188s\n",
      "14-07-2023 17:42:22 [INFO]: == Segmentation over the mask ==\n",
      "14-07-2023 17:42:23 [DEBUG]: Elapsed time: 0.882s\n",
      "14-07-2023 17:42:24 [DEBUG]: ** Original image information **\n",
      "14-07-2023 17:42:24 [DEBUG]: -Dimensions: (25895, 30760)\n",
      "14-07-2023 17:42:24 [DEBUG]: ** Mask information **\n",
      "14-07-2023 17:42:24 [DEBUG]: -Mask downscaling factor: 16\n",
      "14-07-2023 17:42:24 [DEBUG]: -Pixel dimensions: (1618, 1922)\n",
      "14-07-2023 17:42:24 [DEBUG]: -Calculated patch size: 64\n",
      "14-07-2023 17:42:24 [DEBUG]: -Max tile coordinates: (26, 31)\n",
      "14-07-2023 17:42:24 [DEBUG]: -Number of tiles: 806\n",
      "14-07-2023 17:42:24 [DEBUG]: ** Output image information **\n",
      "14-07-2023 17:42:24 [DEBUG]: Requested 1x downsampling for output.\n",
      "14-07-2023 17:42:24 [DEBUG]: ** Properties of selected deep zoom level **\n",
      "14-07-2023 17:42:24 [DEBUG]: -Real downscaling factor: 1.0\n",
      "14-07-2023 17:42:24 [DEBUG]: -Pixel dimensions: (25895, 30760)\n",
      "14-07-2023 17:42:24 [DEBUG]: -Selected patch size: 1024\n",
      "14-07-2023 17:42:24 [DEBUG]: -Max tile coordinates: (26, 31)\n",
      "14-07-2023 17:42:24 [DEBUG]: -Number of tiles: 806\n",
      "14-07-2023 17:42:24 [INFO]: == Selecting tiles ==\n",
      "14-07-2023 17:43:35 [DEBUG]: Elapsed time: 71.092s\n",
      "14-07-2023 17:43:35 [DEBUG]: Selected 207 tiles\n"
     ]
    }
   ],
   "source": [
    "!python pyhist.py \\\n",
    "        --patch-size 1024 \\\n",
    "        --output-downsample 1 \\\n",
    "        --save-patches \\\n",
    "        --save-tilecrossed-image \\\n",
    "        --content-threshold 0.3 \\\n",
    "        --info \"verbose\" \\\n",
    "        --output \"$outpath\" \\\n",
    "        --minimum_segmentsize 500 \\\n",
    "        \"$svs\""
   ]
  }
 ],
 "metadata": {
  "kernelspec": {
   "display_name": "lion",
   "language": "python",
   "name": "python3"
  },
  "language_info": {
   "codemirror_mode": {
    "name": "ipython",
    "version": 3
   },
   "file_extension": ".py",
   "mimetype": "text/x-python",
   "name": "python",
   "nbconvert_exporter": "python",
   "pygments_lexer": "ipython3",
   "version": "3.10.11"
  },
  "orig_nbformat": 4
 },
 "nbformat": 4,
 "nbformat_minor": 2
}
