{
 "cells": [
  {
   "cell_type": "code",
   "execution_count": 17,
   "metadata": {},
   "outputs": [],
   "source": [
    "import openslide\n",
    "import glob\n",
    "import pandas as pd\n"
   ]
  },
  {
   "cell_type": "code",
   "execution_count": 18,
   "metadata": {},
   "outputs": [],
   "source": [
    "outpath = \"/Users/moksu/Desktop/pathology_image_project/git_ignore/PDA_tile_img\"\n",
    "svspath = \"/Users/moksu/Desktop/pathology_image_project/git_ignore/PDA_svs_img/C3L-01637-21.svs\""
   ]
  },
  {
   "cell_type": "code",
   "execution_count": 19,
   "metadata": {
    "vscode": {
     "languageId": "shellscript"
    }
   },
   "outputs": [
    {
     "name": "stdout",
     "output_type": "stream",
     "text": [
      "[Errno 2] No such file or directory: 'git_ignore/PyHIST'\n",
      "/Users/moksu/Desktop/pathology_image_project/git_ignore/PyHIST\n"
     ]
    }
   ],
   "source": [
    "%cd git_ignore/PyHIST"
   ]
  },
  {
   "cell_type": "code",
   "execution_count": 20,
   "metadata": {
    "vscode": {
     "languageId": "shellscript"
    }
   },
   "outputs": [
    {
     "name": "stdout",
     "output_type": "stream",
     "text": [
      "19-06-2023 15:32:53 [INFO]: == Producing edge image ==\n",
      "19-06-2023 15:32:53 [DEBUG]: Requested 16x downsampling for edge detection.\n",
      "19-06-2023 15:32:53 [DEBUG]: SVS level 0 dimensions:(15935, 12960)\n",
      "19-06-2023 15:32:53 [DEBUG]: Using level 2 to downsample.\n",
      "19-06-2023 15:32:53 [DEBUG]: Downsampled size: (995, 810)\n",
      "19-06-2023 15:32:53 [DEBUG]: Elapsed time: 0.122s\n",
      "19-06-2023 15:32:53 [INFO]: == Segmentation over the mask ==\n",
      "19-06-2023 15:32:53 [DEBUG]: Elapsed time: 0.119s\n",
      "19-06-2023 15:32:53 [DEBUG]: ** Original image information **\n",
      "19-06-2023 15:32:53 [DEBUG]: -Dimensions: (15935, 12960)\n",
      "19-06-2023 15:32:53 [DEBUG]: ** Mask information **\n",
      "19-06-2023 15:32:53 [DEBUG]: -Mask downscaling factor: 16\n",
      "19-06-2023 15:32:53 [DEBUG]: -Pixel dimensions: (995, 810)\n",
      "19-06-2023 15:32:53 [DEBUG]: -Calculated patch size: 32\n",
      "19-06-2023 15:32:53 [DEBUG]: -Max tile coordinates: (32, 26)\n",
      "19-06-2023 15:32:53 [DEBUG]: -Number of tiles: 832\n",
      "19-06-2023 15:32:53 [DEBUG]: ** Output image information **\n",
      "19-06-2023 15:32:53 [DEBUG]: Requested 1x downsampling for output.\n",
      "19-06-2023 15:32:53 [DEBUG]: ** Properties of selected deep zoom level **\n",
      "19-06-2023 15:32:53 [DEBUG]: -Real downscaling factor: 1.0\n",
      "19-06-2023 15:32:53 [DEBUG]: -Pixel dimensions: (15935, 12960)\n",
      "19-06-2023 15:32:53 [DEBUG]: -Selected patch size: 512\n",
      "19-06-2023 15:32:53 [DEBUG]: -Max tile coordinates: (32, 26)\n",
      "19-06-2023 15:32:53 [DEBUG]: -Number of tiles: 832\n",
      "19-06-2023 15:32:53 [INFO]: == Selecting tiles ==\n",
      "19-06-2023 15:33:14 [DEBUG]: Elapsed time: 20.53s\n",
      "19-06-2023 15:33:14 [DEBUG]: Selected 832 tiles\n"
     ]
    }
   ],
   "source": [
    "!python pyhist.py \\\n",
    "        --patch-size 512 \\\n",
    "        --output-downsample 1 \\\n",
    "        --save-patches \\\n",
    "        --save-tilecrossed-image \\\n",
    "        --save-blank \\\n",
    "        --content-threshold 0.3 \\\n",
    "        --info \"verbose\" \\\n",
    "        --output \"$outpath\" \\\n",
    "        --minimum_segmentsize 500 \\\n",
    "        \"$svspath\""
   ]
  },
  {
   "cell_type": "code",
   "execution_count": 21,
   "metadata": {},
   "outputs": [
    {
     "data": {
      "text/html": [
       "<div>\n",
       "<style scoped>\n",
       "    .dataframe tbody tr th:only-of-type {\n",
       "        vertical-align: middle;\n",
       "    }\n",
       "\n",
       "    .dataframe tbody tr th {\n",
       "        vertical-align: top;\n",
       "    }\n",
       "\n",
       "    .dataframe thead th {\n",
       "        text-align: right;\n",
       "    }\n",
       "</style>\n",
       "<table border=\"1\" class=\"dataframe\">\n",
       "  <thead>\n",
       "    <tr style=\"text-align: right;\">\n",
       "      <th></th>\n",
       "      <th>Tile</th>\n",
       "      <th>Width</th>\n",
       "      <th>Height</th>\n",
       "      <th>Keep</th>\n",
       "      <th>Row</th>\n",
       "      <th>Column</th>\n",
       "    </tr>\n",
       "  </thead>\n",
       "  <tbody>\n",
       "    <tr>\n",
       "      <th>0</th>\n",
       "      <td>C3L-01637-21_000</td>\n",
       "      <td>512</td>\n",
       "      <td>512</td>\n",
       "      <td>0</td>\n",
       "      <td>0</td>\n",
       "      <td>0</td>\n",
       "    </tr>\n",
       "    <tr>\n",
       "      <th>1</th>\n",
       "      <td>C3L-01637-21_001</td>\n",
       "      <td>512</td>\n",
       "      <td>512</td>\n",
       "      <td>0</td>\n",
       "      <td>0</td>\n",
       "      <td>1</td>\n",
       "    </tr>\n",
       "    <tr>\n",
       "      <th>2</th>\n",
       "      <td>C3L-01637-21_002</td>\n",
       "      <td>512</td>\n",
       "      <td>512</td>\n",
       "      <td>0</td>\n",
       "      <td>0</td>\n",
       "      <td>2</td>\n",
       "    </tr>\n",
       "    <tr>\n",
       "      <th>3</th>\n",
       "      <td>C3L-01637-21_003</td>\n",
       "      <td>512</td>\n",
       "      <td>512</td>\n",
       "      <td>0</td>\n",
       "      <td>0</td>\n",
       "      <td>3</td>\n",
       "    </tr>\n",
       "    <tr>\n",
       "      <th>4</th>\n",
       "      <td>C3L-01637-21_004</td>\n",
       "      <td>512</td>\n",
       "      <td>512</td>\n",
       "      <td>0</td>\n",
       "      <td>0</td>\n",
       "      <td>4</td>\n",
       "    </tr>\n",
       "    <tr>\n",
       "      <th>...</th>\n",
       "      <td>...</td>\n",
       "      <td>...</td>\n",
       "      <td>...</td>\n",
       "      <td>...</td>\n",
       "      <td>...</td>\n",
       "      <td>...</td>\n",
       "    </tr>\n",
       "    <tr>\n",
       "      <th>827</th>\n",
       "      <td>C3L-01637-21_827</td>\n",
       "      <td>512</td>\n",
       "      <td>160</td>\n",
       "      <td>0</td>\n",
       "      <td>25</td>\n",
       "      <td>27</td>\n",
       "    </tr>\n",
       "    <tr>\n",
       "      <th>828</th>\n",
       "      <td>C3L-01637-21_828</td>\n",
       "      <td>512</td>\n",
       "      <td>160</td>\n",
       "      <td>0</td>\n",
       "      <td>25</td>\n",
       "      <td>28</td>\n",
       "    </tr>\n",
       "    <tr>\n",
       "      <th>829</th>\n",
       "      <td>C3L-01637-21_829</td>\n",
       "      <td>512</td>\n",
       "      <td>160</td>\n",
       "      <td>0</td>\n",
       "      <td>25</td>\n",
       "      <td>29</td>\n",
       "    </tr>\n",
       "    <tr>\n",
       "      <th>830</th>\n",
       "      <td>C3L-01637-21_830</td>\n",
       "      <td>512</td>\n",
       "      <td>160</td>\n",
       "      <td>0</td>\n",
       "      <td>25</td>\n",
       "      <td>30</td>\n",
       "    </tr>\n",
       "    <tr>\n",
       "      <th>831</th>\n",
       "      <td>C3L-01637-21_831</td>\n",
       "      <td>63</td>\n",
       "      <td>160</td>\n",
       "      <td>0</td>\n",
       "      <td>25</td>\n",
       "      <td>31</td>\n",
       "    </tr>\n",
       "  </tbody>\n",
       "</table>\n",
       "<p>832 rows × 6 columns</p>\n",
       "</div>"
      ],
      "text/plain": [
       "                 Tile  Width  Height  Keep  Row  Column\n",
       "0    C3L-01637-21_000    512     512     0    0       0\n",
       "1    C3L-01637-21_001    512     512     0    0       1\n",
       "2    C3L-01637-21_002    512     512     0    0       2\n",
       "3    C3L-01637-21_003    512     512     0    0       3\n",
       "4    C3L-01637-21_004    512     512     0    0       4\n",
       "..                ...    ...     ...   ...  ...     ...\n",
       "827  C3L-01637-21_827    512     160     0   25      27\n",
       "828  C3L-01637-21_828    512     160     0   25      28\n",
       "829  C3L-01637-21_829    512     160     0   25      29\n",
       "830  C3L-01637-21_830    512     160     0   25      30\n",
       "831  C3L-01637-21_831     63     160     0   25      31\n",
       "\n",
       "[832 rows x 6 columns]"
      ]
     },
     "execution_count": 21,
     "metadata": {},
     "output_type": "execute_result"
    }
   ],
   "source": [
    "pd.read_csv(\"/Users/moksu/Desktop/pathology_image_project/git_ignore/PDA_tile_img/C3L-01637-21/tile_selection.tsv\", sep='\\t')"
   ]
  },
  {
   "cell_type": "code",
   "execution_count": null,
   "metadata": {},
   "outputs": [],
   "source": []
  }
 ],
 "metadata": {
  "kernelspec": {
   "display_name": "lion",
   "language": "python",
   "name": "python3"
  },
  "language_info": {
   "codemirror_mode": {
    "name": "ipython",
    "version": 3
   },
   "file_extension": ".py",
   "mimetype": "text/x-python",
   "name": "python",
   "nbconvert_exporter": "python",
   "pygments_lexer": "ipython3",
   "version": "3.10.0"
  },
  "orig_nbformat": 4
 },
 "nbformat": 4,
 "nbformat_minor": 2
}
