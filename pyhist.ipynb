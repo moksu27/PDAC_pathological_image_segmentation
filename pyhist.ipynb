{
 "cells": [
  {
   "cell_type": "code",
   "execution_count": 1,
   "metadata": {},
   "outputs": [],
   "source": [
    "import pandas as pd\n"
   ]
  },
  {
   "cell_type": "code",
   "execution_count": 2,
   "metadata": {},
   "outputs": [],
   "source": [
    "outpath = \"/workspace/data/PDA_tile_img/sample\"\n",
    "svspath = \"/workspace/data/PDA_svs_img/sample/C3L-01971-21.svs\""
   ]
  },
  {
   "cell_type": "code",
   "execution_count": 3,
   "metadata": {
    "vscode": {
     "languageId": "shellscript"
    }
   },
   "outputs": [
    {
     "name": "stdout",
     "output_type": "stream",
     "text": [
      "/data/PyHIST\n"
     ]
    }
   ],
   "source": [
    "%cd /workspace/data/PyHIST"
   ]
  },
  {
   "cell_type": "code",
   "execution_count": 4,
   "metadata": {
    "vscode": {
     "languageId": "shellscript"
    }
   },
   "outputs": [
    {
     "name": "stdout",
     "output_type": "stream",
     "text": [
      "20-06-2023 13:42:23 [INFO]: == Producing edge image ==\n",
      "20-06-2023 13:42:23 [DEBUG]: Requested 16x downsampling for edge detection.\n",
      "20-06-2023 13:42:23 [DEBUG]: SVS level 0 dimensions:(17927, 16413)\n",
      "20-06-2023 13:42:23 [DEBUG]: Using level 2 to downsample.\n",
      "20-06-2023 13:42:23 [DEBUG]: Downsampled size: (1120, 1025)\n",
      "20-06-2023 13:42:23 [DEBUG]: Elapsed time: 0.295s\n",
      "20-06-2023 13:42:23 [INFO]: == Segmentation over the mask ==\n",
      "20-06-2023 13:42:23 [DEBUG]: Elapsed time: 0.308s\n",
      "20-06-2023 13:42:24 [DEBUG]: ** Original image information **\n",
      "20-06-2023 13:42:24 [DEBUG]: -Dimensions: (17927, 16413)\n",
      "20-06-2023 13:42:24 [DEBUG]: ** Mask information **\n",
      "20-06-2023 13:42:24 [DEBUG]: -Mask downscaling factor: 16\n",
      "20-06-2023 13:42:24 [DEBUG]: -Pixel dimensions: (1120, 1025)\n",
      "20-06-2023 13:42:24 [DEBUG]: -Calculated patch size: 64\n",
      "20-06-2023 13:42:24 [DEBUG]: -Max tile coordinates: (18, 17)\n",
      "20-06-2023 13:42:24 [DEBUG]: -Number of tiles: 306\n",
      "20-06-2023 13:42:24 [DEBUG]: ** Output image information **\n",
      "20-06-2023 13:42:24 [DEBUG]: Requested 1x downsampling for output.\n",
      "20-06-2023 13:42:24 [DEBUG]: ** Properties of selected deep zoom level **\n",
      "20-06-2023 13:42:24 [DEBUG]: -Real downscaling factor: 1.0\n",
      "20-06-2023 13:42:24 [DEBUG]: -Pixel dimensions: (17927, 16413)\n",
      "20-06-2023 13:42:24 [DEBUG]: -Selected patch size: 1024\n",
      "20-06-2023 13:42:24 [DEBUG]: -Max tile coordinates: (18, 17)\n",
      "20-06-2023 13:42:24 [DEBUG]: -Number of tiles: 306\n",
      "20-06-2023 13:42:24 [INFO]: == Selecting tiles ==\n",
      "20-06-2023 13:43:02 [DEBUG]: Elapsed time: 38.258s\n",
      "20-06-2023 13:43:02 [DEBUG]: Selected 306 tiles\n"
     ]
    }
   ],
   "source": [
    "!python pyhist.py \\\n",
    "        --patch-size 1024 \\\n",
    "        --output-downsample 1 \\\n",
    "        --save-patches \\\n",
    "        --save-tilecrossed-image \\\n",
    "        --save-blank \\\n",
    "        --content-threshold 0.2 \\\n",
    "        --info \"verbose\" \\\n",
    "        --output \"$outpath\" \\\n",
    "        --minimum_segmentsize 500 \\\n",
    "        \"$svspath\""
   ]
  }
 ],
 "metadata": {
  "kernelspec": {
   "display_name": "lion",
   "language": "python",
   "name": "python3"
  },
  "language_info": {
   "codemirror_mode": {
    "name": "ipython",
    "version": 3
   },
   "file_extension": ".py",
   "mimetype": "text/x-python",
   "name": "python",
   "nbconvert_exporter": "python",
   "pygments_lexer": "ipython3",
   "version": "3.10.11"
  },
  "orig_nbformat": 4
 },
 "nbformat": 4,
 "nbformat_minor": 2
}
