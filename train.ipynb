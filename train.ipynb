{
 "cells": [
  {
   "cell_type": "code",
   "execution_count": 14,
   "metadata": {},
   "outputs": [],
   "source": [
    "import glob\n",
    "import torch\n",
    "import torch.nn as nn\n",
    "import numpy as np\n",
    "from torch.utils.data.dataset import Dataset\n",
    "import matplotlib.pyplot as plt\n",
    "from PIL import Image\n",
    "from tqdm.auto import tqdm\n",
    "from torchvision.transforms import ToPILImage\n",
    "from torch.optim.adam import Adam\n",
    "from torch.utils.data.dataloader import DataLoader\n",
    "import torchvision.models as models\n",
    "import random\n",
    "import os\n",
    "import cv2\n",
    "import albumentations as A\n",
    "from albumentations.pytorch import ToTensorV2\n",
    "from IPython.core.debugger import set_trace\n",
    "import pandas as pd\n",
    "import datetime\n",
    "import pytz\n",
    "import albumentations as A\n",
    "from albumentations.pytorch.transforms import ToTensorV2\n",
    "import re\n",
    "import torch.nn.functional as F"
   ]
  },
  {
   "attachments": {},
   "cell_type": "markdown",
   "metadata": {},
   "source": [
    "## 파라미터 설정"
   ]
  },
  {
   "cell_type": "code",
   "execution_count": 15,
   "metadata": {},
   "outputs": [
    {
     "data": {
      "text/plain": [
       "'cuda'"
      ]
     },
     "execution_count": 15,
     "metadata": {},
     "output_type": "execute_result"
    }
   ],
   "source": [
    "device = \"cuda\" if torch.cuda.is_available() else \"cpu\"\n",
    "device"
   ]
  },
  {
   "cell_type": "code",
   "execution_count": 16,
   "metadata": {},
   "outputs": [
    {
     "data": {
      "text/plain": [
       "'\\n# 맥 mps 설정\\ndevice = torch.device(\"mps:0\" if torch.backends.mps.is_available() else \"cpu\")\\nprint(f\"현재 디바이스는 {device} 입니다.\")\\n'"
      ]
     },
     "execution_count": 16,
     "metadata": {},
     "output_type": "execute_result"
    }
   ],
   "source": [
    "'''\n",
    "# 맥 mps 설정\n",
    "device = torch.device(\"mps:0\" if torch.backends.mps.is_available() else \"cpu\")\n",
    "print(f\"현재 디바이스는 {device} 입니다.\")\n",
    "'''"
   ]
  },
  {
   "cell_type": "code",
   "execution_count": 17,
   "metadata": {},
   "outputs": [],
   "source": [
    "CFG = {\n",
    "    'IMG_SIZE':512,\n",
    "    'EPOCHS':20,\n",
    "    'LEARNING_RATE':1e-4,\n",
    "    'BATCH_SIZE': 64,\n",
    "    'SEED':41,\n",
    "    'MEAN' : [0.485, 0.456, 0.406],\n",
    "    'STD'  : [0.229, 0.224, 0.225],\n",
    "    'train_magnification':\"10X\"\n",
    "}"
   ]
  },
  {
   "cell_type": "code",
   "execution_count": 18,
   "metadata": {},
   "outputs": [
    {
     "name": "stdout",
     "output_type": "stream",
     "text": [
      "2023_06_20 12:55_PM\n"
     ]
    }
   ],
   "source": [
    "kst = pytz.timezone('Asia/Seoul')\n",
    "current_datetime = datetime.datetime.now(kst)\n",
    "day = current_datetime.strftime(\"%Y_%m_%d\")\n",
    "hour = current_datetime.strftime(\"%I:%M_%p\")\n",
    "print(day, hour)"
   ]
  },
  {
   "cell_type": "code",
   "execution_count": 19,
   "metadata": {},
   "outputs": [],
   "source": [
    "# server path\n",
    "output_path = f\"/data/output/{day}\"\n",
    "pth_path = f\"/data/pthfile/{day}\"\n",
    "trainframe_path = f\"{output_path}/trainframe\"\n",
    "train_data_path = f\"/data/PDA_mask_img/train/{CFG['train_magnification']}/**/*.png\"\n",
    "val_data_path = f\"/data/PDA_mask_img/validation/{CFG['train_magnification']}/**/*.png\""
   ]
  },
  {
   "cell_type": "code",
   "execution_count": 20,
   "metadata": {},
   "outputs": [],
   "source": [
    "# server output name\n",
    "trainframe_name = f\"{trainframe_path}/train:{CFG['train_magnification']}_epoch:{CFG['EPOCHS']}_{hour}.xlsx\"\n",
    "pth_name=f\"{pth_path}/train:{CFG['train_magnification']}_epoch:{CFG['EPOCHS']}_{hour}.pth\""
   ]
  },
  {
   "cell_type": "code",
   "execution_count": 21,
   "metadata": {},
   "outputs": [
    {
     "data": {
      "text/plain": [
       "'\\noutput_path = f\"git_ignore/output/{day}\"\\npth_path = f\"git_ignore/pthfile/{day}\"\\ntrainframe_path = f\"{output_path}/trainframe\"\\ntrain_data_path = f\"git_ignore/PDA_mask_img/train/{CFG[\\'train_magnification\\']}/**/*.png\"\\nval_data_path = f\"git_ignore/PDA_mask_img/validation_mask/{CFG[\\'train_magnification\\']}/**/*.png\"\\n'"
      ]
     },
     "execution_count": 21,
     "metadata": {},
     "output_type": "execute_result"
    }
   ],
   "source": [
    "# local path\n",
    "'''\n",
    "output_path = f\"git_ignore/output/{day}\"\n",
    "pth_path = f\"git_ignore/pthfile/{day}\"\n",
    "trainframe_path = f\"{output_path}/trainframe\"\n",
    "train_data_path = f\"git_ignore/PDA_mask_img/train/{CFG['train_magnification']}/**/*.png\"\n",
    "val_data_path = f\"git_ignore/PDA_mask_img/validation_mask/{CFG['train_magnification']}/**/*.png\"\n",
    "'''"
   ]
  },
  {
   "cell_type": "code",
   "execution_count": 22,
   "metadata": {},
   "outputs": [
    {
     "data": {
      "text/plain": [
       "'\\ntrainframe_name = f\"{trainframe_path}/train:{CFG[\\'train_magnification\\']}_epoch:{CFG[\\'EPOCHS\\']}_{hour}.xlsx\"\\npth_name=f\"{pth_path}/train:{CFG[\\'train_magnification\\']}_epoch:{CFG[\\'EPOCHS\\']}_{hour}.pth\"\\n'"
      ]
     },
     "execution_count": 22,
     "metadata": {},
     "output_type": "execute_result"
    }
   ],
   "source": [
    "# local output name\n",
    "'''\n",
    "trainframe_name = f\"{trainframe_path}/train:{CFG['train_magnification']}_epoch:{CFG['EPOCHS']}_{hour}.xlsx\"\n",
    "pth_name=f\"{pth_path}/train:{CFG['train_magnification']}_epoch:{CFG['EPOCHS']}_{hour}.pth\"\n",
    "'''"
   ]
  },
  {
   "cell_type": "code",
   "execution_count": 23,
   "metadata": {},
   "outputs": [],
   "source": [
    "# 시드 고정\n",
    "def seed_everything(seed):\n",
    "    random.seed(seed)\n",
    "    os.environ['PYTHONHASHSEED'] = str(seed)\n",
    "    np.random.seed(seed)\n",
    "    torch.manual_seed(seed)\n",
    "    torch.cuda.manual_seed(seed)\n",
    "    torch.backends.cudnn.deterministic = True\n",
    "    torch.backends.cudnn.benchmark = True\n",
    "\n",
    "seed_everything(CFG['SEED']) # Seed 고정"
   ]
  },
  {
   "attachments": {},
   "cell_type": "markdown",
   "metadata": {},
   "source": [
    "## 데이터 경로지정"
   ]
  },
  {
   "cell_type": "code",
   "execution_count": 24,
   "metadata": {},
   "outputs": [
    {
     "data": {
      "text/plain": [
       "['/data/PDA_mask_img/train/10X/C3L-00017-22/C3L-00017-22 [d=2.02347,x=10073,y=10073,w=1036,h=1036]-labelled.png',\n",
       " '/data/PDA_mask_img/train/10X/C3L-00017-22/C3L-00017-22 [d=2.02347,x=10073,y=10603,w=1036,h=1036]-labelled.png',\n",
       " '/data/PDA_mask_img/train/10X/C3L-00017-22/C3L-00017-22 [d=2.02347,x=10073,y=11133,w=1036,h=1036]-labelled.png',\n",
       " '/data/PDA_mask_img/train/10X/C3L-00017-22/C3L-00017-22 [d=2.02347,x=10073,y=11663,w=1036,h=1036]-labelled.png',\n",
       " '/data/PDA_mask_img/train/10X/C3L-00017-22/C3L-00017-22 [d=2.02347,x=10073,y=12193,w=1036,h=1036]-labelled.png']"
      ]
     },
     "execution_count": 24,
     "metadata": {},
     "output_type": "execute_result"
    }
   ],
   "source": [
    "train_path_list = sorted(glob.glob(train_data_path))\n",
    "train_mask_path = train_path_list[0::2]\n",
    "train_img_path = train_path_list[1::2]\n",
    "train_mask_path[:5]"
   ]
  },
  {
   "cell_type": "code",
   "execution_count": 25,
   "metadata": {},
   "outputs": [
    {
     "data": {
      "text/plain": [
       "['/data/PDA_mask_img/validation/10X/C3L-00277-22/C3L-00277-22 [d=2.02347,x=0,y=0,w=1036,h=1036]-labelled.png',\n",
       " '/data/PDA_mask_img/validation/10X/C3L-00277-22/C3L-00277-22 [d=2.02347,x=0,y=1036,w=1036,h=1036]-labelled.png',\n",
       " '/data/PDA_mask_img/validation/10X/C3L-00277-22/C3L-00277-22 [d=2.02347,x=0,y=10360,w=1036,h=1036]-labelled.png',\n",
       " '/data/PDA_mask_img/validation/10X/C3L-00277-22/C3L-00277-22 [d=2.02347,x=0,y=11396,w=1036,h=1036]-labelled.png',\n",
       " '/data/PDA_mask_img/validation/10X/C3L-00277-22/C3L-00277-22 [d=2.02347,x=0,y=12432,w=1036,h=1036]-labelled.png']"
      ]
     },
     "execution_count": 25,
     "metadata": {},
     "output_type": "execute_result"
    }
   ],
   "source": [
    "val_path_list = sorted(glob.glob(val_data_path))\n",
    "val_mask_path = val_path_list[0::2]\n",
    "val_img_path = val_path_list[1::2]\n",
    "val_mask_path[:5]"
   ]
  },
  {
   "cell_type": "code",
   "execution_count": 26,
   "metadata": {},
   "outputs": [
    {
     "data": {
      "text/plain": [
       "<matplotlib.image.AxesImage at 0x7f87687855a0>"
      ]
     },
     "execution_count": 26,
     "metadata": {},
     "output_type": "execute_result"
    },
    {
     "data": {
      "image/png": "[encoded data removed]",
      "text/plain": [
       "<Figure size 640x480 with 2 Axes>"
      ]
     },
     "metadata": {},
     "output_type": "display_data"
    }
   ],
   "source": [
    "annotation = cv2.imread(train_mask_path[0])\n",
    "image = cv2.imread(train_img_path[0])\n",
    "image = cv2.cvtColor(image, cv2.COLOR_BGR2RGB)\n",
    "plt.subplot(1,2,1)\n",
    "plt.title(\"annotations\")\n",
    "plt.imshow(annotation)\n",
    "\n",
    "plt.subplot(1,2,2)\n",
    "plt.title(\"image\")\n",
    "plt.imshow(image)"
   ]
  },
  {
   "cell_type": "code",
   "execution_count": 27,
   "metadata": {},
   "outputs": [],
   "source": [
    "# Custom Dataset\n",
    "class CustomDataset(Dataset):\n",
    "    def __init__(self, img_path, mask_path, transform = None):\n",
    "        self.image = img_path\n",
    "        self.mask = mask_path\n",
    "        \n",
    "        n_samples =  len(self.image)\n",
    "        \n",
    "        # 데이터 미리 섞어줌\n",
    "        np.random.seed(CFG['SEED'])\n",
    "        idxs = np.random.permutation(range(n_samples))\n",
    "        \n",
    "        self.image = np.array(self.image)[idxs]\n",
    "        self.mask = np.array(self.mask)[idxs]\n",
    "        self.transform = transform\n",
    "\n",
    "    def __len__(self):\n",
    "        return len(self.image) # 데이터셋 길이\n",
    "    \n",
    "    def __getitem__(self, i):\n",
    "        image = np.array(Image.open(self.image[i]))\n",
    "        mask = np.array(Image.open(self.mask[i]))\n",
    "        data = self.transform(image = image, mask = mask)\n",
    "        image = data[\"image\"]\n",
    "        mask = data[\"mask\"]\n",
    "        return image, mask"
   ]
  },
  {
   "attachments": {},
   "cell_type": "markdown",
   "metadata": {},
   "source": [
    "## 데이터 불러오기"
   ]
  },
  {
   "cell_type": "code",
   "execution_count": 28,
   "metadata": {},
   "outputs": [
    {
     "data": {
      "text/plain": [
       "'\\nA.OneOf([\\n        A.MotionBlur(p=0.3),\\n        A.OpticalDistortion(p=0.3),\\n        A.GaussNoise(p=0.3)                 \\n], p=0.3),\\n'"
      ]
     },
     "execution_count": 28,
     "metadata": {},
     "output_type": "execute_result"
    }
   ],
   "source": [
    "# transform\n",
    "train_transform = A.Compose([\n",
    "        A.Resize(CFG['IMG_SIZE'],CFG['IMG_SIZE']),\n",
    "        A.Normalize(mean=CFG['MEAN'], std = CFG['STD']),\n",
    "        A.ColorJitter(brightness=0.2, contrast=0.2, saturation=0.2, hue=0.2),\n",
    "        A.OneOf([\n",
    "                A.HorizontalFlip(p=0.3),\n",
    "                A.RandomRotate90(p=0.3),\n",
    "                A.VerticalFlip(p=0.3)            \n",
    "        ], p=0.3),\n",
    "        ToTensorV2(transpose_mask=True)\n",
    "])\n",
    "\n",
    "'''\n",
    "A.OneOf([\n",
    "        A.MotionBlur(p=0.3),\n",
    "        A.OpticalDistortion(p=0.3),\n",
    "        A.GaussNoise(p=0.3)                 \n",
    "], p=0.3),\n",
    "'''"
   ]
  },
  {
   "cell_type": "code",
   "execution_count": 29,
   "metadata": {},
   "outputs": [],
   "source": [
    "val_transform = A.Compose([\n",
    "        A.Resize(CFG['IMG_SIZE'],CFG['IMG_SIZE']),\n",
    "        A.Normalize(mean=CFG['MEAN'], std = CFG['STD']),\n",
    "        ToTensorV2(transpose_mask=True)\n",
    "])"
   ]
  },
  {
   "cell_type": "code",
   "execution_count": 30,
   "metadata": {},
   "outputs": [],
   "source": [
    "# 학습용 데이터\n",
    "train_set = CustomDataset(img_path = train_img_path,\n",
    "                          mask_path = train_mask_path,\n",
    "                          transform = train_transform)\n",
    "\n",
    "val_set = CustomDataset(img_path = val_img_path,\n",
    "                         mask_path= val_mask_path,\n",
    "                         transform = val_transform)"
   ]
  },
  {
   "cell_type": "code",
   "execution_count": 31,
   "metadata": {},
   "outputs": [],
   "source": [
    "train_loader = DataLoader(train_set, batch_size = CFG[\"BATCH_SIZE\"], shuffle = True)\n",
    "val_loader = DataLoader(val_set, batch_size = CFG[\"BATCH_SIZE\"])"
   ]
  },
  {
   "cell_type": "code",
   "execution_count": 32,
   "metadata": {},
   "outputs": [
    {
     "name": "stdout",
     "output_type": "stream",
     "text": [
      "train_data : 5181 / val_data : 870\n"
     ]
    }
   ],
   "source": [
    "print(f\"train_data : {len(train_set)} / val_data : {len(val_set)}\")"
   ]
  },
  {
   "attachments": {},
   "cell_type": "markdown",
   "metadata": {},
   "source": [
    "## 학습"
   ]
  },
  {
   "cell_type": "code",
   "execution_count": 33,
   "metadata": {},
   "outputs": [],
   "source": [
    "# Modeling\n",
    "class ResUNet(nn.Module):\n",
    "    def __init__(self, num_classes):\n",
    "        super(ResUNet, self).__init__()\n",
    "        self.encoder = models.resnet18(pretrained=True)\n",
    "        self.pool = nn.MaxPool2d(kernel_size=2, stride=2)\n",
    "        self.relu = nn.ReLU(inplace=True)\n",
    "        self.upconv1 = nn.ConvTranspose2d(512, 256, kernel_size=2, stride=2)\n",
    "        self.conv1 = nn.Conv2d(512, 256, kernel_size=3, padding=1)\n",
    "        self.upconv2 = nn.ConvTranspose2d(256, 128, kernel_size=2, stride=2)\n",
    "        self.conv2 = nn.Conv2d(256, 128, kernel_size=3, padding=1)\n",
    "        self.upconv3 = nn.ConvTranspose2d(128, 64, kernel_size=2, stride=2)\n",
    "        self.conv3 = nn.Conv2d(128, 64, kernel_size=3, padding=1)\n",
    "        self.conv4 = nn.Conv2d(64, num_classes, kernel_size=1)\n",
    "\n",
    "    def forward(self, x):\n",
    "        # Encoder\n",
    "        x1 = self.encoder.conv1(x)\n",
    "        x1 = self.encoder.bn1(x1)\n",
    "        x1 = self.encoder.relu(x1)\n",
    "        x1 = self.encoder.maxpool(x1)\n",
    "\n",
    "        x2 = self.encoder.layer1(x1)\n",
    "        x3 = self.encoder.layer2(x2)\n",
    "        x4 = self.encoder.layer3(x3)\n",
    "        x5 = self.encoder.layer4(x4)\n",
    "\n",
    "        # Decoder\n",
    "        x = self.upconv1(x5)\n",
    "        x = torch.cat((x, x4), dim=1)\n",
    "        x = self.relu(self.conv1(x))\n",
    "\n",
    "        x = self.upconv2(x)\n",
    "        x = torch.cat((x, x3), dim=1)\n",
    "        x = self.relu(self.conv2(x))\n",
    "\n",
    "        x = self.upconv3(x)\n",
    "        x = torch.cat((x, x2), dim=1)\n",
    "        x = self.relu(self.conv3(x))\n",
    "\n",
    "        x = self.conv4(x)\n",
    "\n",
    "        # Resize to 512x512\n",
    "        x = nn.functional.interpolate(x, size=(512, 512), mode='bilinear', align_corners=False)\n",
    "\n",
    "        return x"
   ]
  },
  {
   "cell_type": "code",
   "execution_count": 34,
   "metadata": {},
   "outputs": [],
   "source": [
    "class DiceLoss(nn.Module):\n",
    "    def __init__(self):\n",
    "        super(DiceLoss, self).__init__()\n",
    "\n",
    "    def forward(self, inputs, targets, smooth=1):\n",
    "        \n",
    "        inputs = F.sigmoid(inputs) # sigmoid를 통과한 출력이면 주석처리\n",
    "        \n",
    "        inputs = inputs.view(-1)\n",
    "        targets = targets.view(-1)\n",
    "        \n",
    "        intersection = (inputs * targets).sum()                            \n",
    "        dice = (2.*intersection + smooth) / (inputs.sum() + targets.sum() + smooth)  \n",
    "        \n",
    "        return 1 - dice "
   ]
  },
  {
   "cell_type": "code",
   "execution_count": 35,
   "metadata": {},
   "outputs": [
    {
     "name": "stderr",
     "output_type": "stream",
     "text": [
      "/opt/conda/lib/python3.10/site-packages/torchvision/models/_utils.py:208: UserWarning: The parameter 'pretrained' is deprecated since 0.13 and may be removed in the future, please use 'weights' instead.\n",
      "  warnings.warn(\n",
      "/opt/conda/lib/python3.10/site-packages/torchvision/models/_utils.py:223: UserWarning: Arguments other than a weight enum or `None` for 'weights' are deprecated since 0.13 and may be removed in the future. The current behavior is equivalent to passing `weights=ResNet18_Weights.IMAGENET1K_V1`. You can also use `weights=ResNet18_Weights.DEFAULT` to get the most up-to-date weights.\n",
      "  warnings.warn(msg)\n"
     ]
    }
   ],
   "source": [
    "# 학습 파라미터\n",
    "model = ResUNet(num_classes=1).to(device)\n",
    "model = nn.DataParallel(model)\n",
    "optimizer = Adam(params = model.parameters(), lr = CFG[\"LEARNING_RATE\"])\n",
    "scheduler = torch.optim.lr_scheduler.ReduceLROnPlateau(optimizer, mode='max', factor=0.5, patience=2, threshold_mode='abs', min_lr=1e-8, verbose=True)\n",
    "criterion = DiceLoss().to(device)"
   ]
  },
  {
   "cell_type": "code",
   "execution_count": 36,
   "metadata": {},
   "outputs": [],
   "source": [
    "def dice_score(pred, target, smooth=1e-6):\n",
    "    intersection = (pred * target).sum()\n",
    "    union = pred.sum() + target.sum()\n",
    "    dice = (2.0 * intersection + smooth) / (union + smooth)\n",
    "    return dice"
   ]
  },
  {
   "cell_type": "code",
   "execution_count": 37,
   "metadata": {},
   "outputs": [],
   "source": [
    "# 평균값 계산\n",
    "class AverageMeter: \n",
    "    def __init__(self):\n",
    "        self.reset()\n",
    "\n",
    "    def reset(self):\n",
    "        self.val = 0\n",
    "        self.avg = 0\n",
    "        self.sum = 0\n",
    "        self.count = 0\n",
    "\n",
    "    def update(self, val, n=1):\n",
    "        self.val = val\n",
    "        self.sum += val * n\n",
    "        self.count += n\n",
    "        self.avg = self.sum / self.count"
   ]
  },
  {
   "cell_type": "code",
   "execution_count": 38,
   "metadata": {},
   "outputs": [],
   "source": [
    "class EarlyStop:\n",
    "    def __init__(self, patience=5, delta=0):\n",
    "        self.patience = patience\n",
    "        self.delta = delta\n",
    "        self.best_score = None\n",
    "        self.counter = 0\n",
    "        self.early_stop = False\n",
    "        self.val_loss_min = np.Inf\n",
    "\n",
    "    def __call__(self, val_score):\n",
    "        if self.best_score is None:\n",
    "            self.best_score = val_score\n",
    "        elif val_score < self.best_score + self.delta:\n",
    "            self.counter += 1\n",
    "            if self.counter >= self.patience:\n",
    "                self.early_stop = True\n",
    "        else:\n",
    "            self.best_score = val_score\n",
    "            self.counter = 0"
   ]
  },
  {
   "cell_type": "code",
   "execution_count": 39,
   "metadata": {},
   "outputs": [],
   "source": [
    "loss_meter = AverageMeter()\n",
    "score_meter = AverageMeter()\n",
    "early_stopping = EarlyStop(patience = 20, delta = 0)"
   ]
  },
  {
   "cell_type": "code",
   "execution_count": 40,
   "metadata": {},
   "outputs": [],
   "source": [
    "def validation(model, criterion, val_loader, device):\n",
    "    model.eval()\n",
    "    with torch.no_grad():\n",
    "        for img, label in tqdm(val_loader):\n",
    "            out = model(img.to(device))\n",
    "            out = torch.squeeze(out)\n",
    "            pred = torch.ge(out.sigmoid(), 0.5).float()\n",
    "            label = torch.squeeze(label).to(device)\n",
    "            score = dice_score(pred, label)\n",
    "            loss = criterion(out, label.type(torch.FloatTensor).to(device))\n",
    "\n",
    "            loss_meter.update(loss.item())\n",
    "            score_meter.update(score.item())\n",
    "\n",
    "        val_loss_mean = loss_meter.avg\n",
    "        val_score_mean = score_meter.avg\n",
    "        loss_meter.reset()\n",
    "        score_meter.reset()\n",
    "    return val_loss_mean, val_score_mean"
   ]
  },
  {
   "cell_type": "code",
   "execution_count": 41,
   "metadata": {
    "scrolled": true
   },
   "outputs": [],
   "source": [
    "def train(model, criterion, optimizer, train_loader, val_loader, scheduler, device):\n",
    "    best_score = 0\n",
    "    best_model = None\n",
    "    result_arr = np.empty((0,4), float)\n",
    "    columns = []\n",
    "    model.train()\n",
    "    for epoch in range(CFG[\"EPOCHS\"]):\n",
    "        try:\n",
    "            for img, label in tqdm(train_loader):\n",
    "                optimizer.zero_grad()\n",
    "                out = model(img.to(device))\n",
    "                out = torch.squeeze(out)\n",
    "                pred = torch.ge(out.sigmoid(), 0.5).float()\n",
    "                label = torch.squeeze(label).to(device)\n",
    "                score = dice_score(pred, label)\n",
    "                loss = criterion(out, label.type(torch.FloatTensor).to(device))\n",
    "\n",
    "                loss_meter.update(loss.item())\n",
    "                score_meter.update(score.item())\n",
    "\n",
    "                loss.backward()\n",
    "                optimizer.step()\n",
    "                \n",
    "            train_loss_mean = loss_meter.avg\n",
    "            train_score_mean = score_meter.avg\n",
    "            loss_meter.reset()\n",
    "            score_meter.reset()\n",
    "            val_loss, val_score = validation(model, criterion, val_loader, device)\n",
    "\n",
    "            print(f\"epoch{epoch+1}: Train_loss:{train_loss_mean} Train_score:{train_score_mean} Val_loss:{val_loss} Val_score:{val_score}\")\n",
    "            result_arr = np.append(result_arr, np.array([[train_loss_mean,train_score_mean, val_loss, val_score]]), axis = 0)\n",
    "            if scheduler is not None:\n",
    "                scheduler.step(val_score)\n",
    "                  \n",
    "            if best_score < val_score:\n",
    "                best_score = val_score\n",
    "                best_model = model\n",
    "                \n",
    "            early_stopping(val_score)\n",
    "            if early_stopping.early_stop:\n",
    "                columns.append(f\"epoch:{epoch+1}\")\n",
    "                print(\"Early stopping!\")\n",
    "                break\n",
    "        except KeyboardInterrupt:\n",
    "            best_model = model\n",
    "        columns.append(f\"epoch:{epoch+1}\")\n",
    "    return best_model, result_arr, columns"
   ]
  },
  {
   "attachments": {},
   "cell_type": "markdown",
   "metadata": {},
   "source": [
    "## Run"
   ]
  },
  {
   "cell_type": "code",
   "execution_count": 42,
   "metadata": {},
   "outputs": [
    {
     "data": {
      "application/vnd.jupyter.widget-view+json": {
       "model_id": "46eacdd63acc463c85954f09771f3def",
       "version_major": 2,
       "version_minor": 0
      },
      "text/plain": [
       "  0%|          | 0/81 [00:00<?, ?it/s]"
      ]
     },
     "metadata": {},
     "output_type": "display_data"
    },
    {
     "data": {
      "application/vnd.jupyter.widget-view+json": {
       "model_id": "858de23f9d864b92933e254aa42c2e50",
       "version_major": 2,
       "version_minor": 0
      },
      "text/plain": [
       "  0%|          | 0/14 [00:00<?, ?it/s]"
      ]
     },
     "metadata": {},
     "output_type": "display_data"
    },
    {
     "name": "stdout",
     "output_type": "stream",
     "text": [
      "epoch1: Train_loss:0.5782200318795664 Train_score:0.46221032499531167 Val_loss:0.3707182151930673 Val_score:0.6304209296192441\n"
     ]
    },
    {
     "data": {
      "application/vnd.jupyter.widget-view+json": {
       "model_id": "a7320319b1d04b5c997bb64a0cbfd995",
       "version_major": 2,
       "version_minor": 0
      },
      "text/plain": [
       "  0%|          | 0/81 [00:00<?, ?it/s]"
      ]
     },
     "metadata": {},
     "output_type": "display_data"
    },
    {
     "data": {
      "application/vnd.jupyter.widget-view+json": {
       "model_id": "7f277a27e07a4f318b8bd07d5fd3785a",
       "version_major": 2,
       "version_minor": 0
      },
      "text/plain": [
       "  0%|          | 0/14 [00:00<?, ?it/s]"
      ]
     },
     "metadata": {},
     "output_type": "display_data"
    },
    {
     "name": "stdout",
     "output_type": "stream",
     "text": [
      "epoch2: Train_loss:0.30454864619690697 Train_score:0.6959402667887417 Val_loss:0.31743728263037546 Val_score:0.6829109489917755\n"
     ]
    },
    {
     "data": {
      "application/vnd.jupyter.widget-view+json": {
       "model_id": "65ebc11ddd914274937cdc462ab430c1",
       "version_major": 2,
       "version_minor": 0
      },
      "text/plain": [
       "  0%|          | 0/81 [00:00<?, ?it/s]"
      ]
     },
     "metadata": {},
     "output_type": "display_data"
    },
    {
     "data": {
      "application/vnd.jupyter.widget-view+json": {
       "model_id": "dd4975b4442a494ea113d0567f27294c",
       "version_major": 2,
       "version_minor": 0
      },
      "text/plain": [
       "  0%|          | 0/14 [00:00<?, ?it/s]"
      ]
     },
     "metadata": {},
     "output_type": "display_data"
    },
    {
     "name": "stdout",
     "output_type": "stream",
     "text": [
      "epoch3: Train_loss:0.2569064012280217 Train_score:0.7433101233140922 Val_loss:0.35404309204646517 Val_score:0.6461640638964516\n"
     ]
    },
    {
     "data": {
      "application/vnd.jupyter.widget-view+json": {
       "model_id": "f92ad71a77624744bfeb4c10ca24737f",
       "version_major": 2,
       "version_minor": 0
      },
      "text/plain": [
       "  0%|          | 0/81 [00:00<?, ?it/s]"
      ]
     },
     "metadata": {},
     "output_type": "display_data"
    },
    {
     "data": {
      "application/vnd.jupyter.widget-view+json": {
       "model_id": "7e32b5644a5b4ccd93ee62cc6da97bc1",
       "version_major": 2,
       "version_minor": 0
      },
      "text/plain": [
       "  0%|          | 0/14 [00:00<?, ?it/s]"
      ]
     },
     "metadata": {},
     "output_type": "display_data"
    },
    {
     "name": "stdout",
     "output_type": "stream",
     "text": [
      "epoch4: Train_loss:0.23417738043231728 Train_score:0.765995466414793 Val_loss:0.3161179210458483 Val_score:0.6840975540024894\n"
     ]
    },
    {
     "data": {
      "application/vnd.jupyter.widget-view+json": {
       "model_id": "ea222e80ad154d619c83fa579ae90050",
       "version_major": 2,
       "version_minor": 0
      },
      "text/plain": [
       "  0%|          | 0/81 [00:00<?, ?it/s]"
      ]
     },
     "metadata": {},
     "output_type": "display_data"
    },
    {
     "data": {
      "application/vnd.jupyter.widget-view+json": {
       "model_id": "a18f53637b1a4eb18cc5cadb4666e604",
       "version_major": 2,
       "version_minor": 0
      },
      "text/plain": [
       "  0%|          | 0/14 [00:00<?, ?it/s]"
      ]
     },
     "metadata": {},
     "output_type": "display_data"
    },
    {
     "name": "stdout",
     "output_type": "stream",
     "text": [
      "epoch5: Train_loss:0.22036162791428743 Train_score:0.7797837640032356 Val_loss:0.30606975725718905 Val_score:0.694199481180736\n"
     ]
    },
    {
     "data": {
      "application/vnd.jupyter.widget-view+json": {
       "model_id": "d0c0460695164394840c26dff6a2914e",
       "version_major": 2,
       "version_minor": 0
      },
      "text/plain": [
       "  0%|          | 0/81 [00:00<?, ?it/s]"
      ]
     },
     "metadata": {},
     "output_type": "display_data"
    },
    {
     "data": {
      "application/vnd.jupyter.widget-view+json": {
       "model_id": "3a9dcd1414d64f8381a11a8d30066ebd",
       "version_major": 2,
       "version_minor": 0
      },
      "text/plain": [
       "  0%|          | 0/14 [00:00<?, ?it/s]"
      ]
     },
     "metadata": {},
     "output_type": "display_data"
    },
    {
     "name": "stdout",
     "output_type": "stream",
     "text": [
      "epoch6: Train_loss:0.21912783605081063 Train_score:0.7810348353268187 Val_loss:0.3271245573248182 Val_score:0.6730162841933114\n"
     ]
    },
    {
     "data": {
      "application/vnd.jupyter.widget-view+json": {
       "model_id": "6e5d1bd263144a5aa57113e82d699b2e",
       "version_major": 2,
       "version_minor": 0
      },
      "text/plain": [
       "  0%|          | 0/81 [00:00<?, ?it/s]"
      ]
     },
     "metadata": {},
     "output_type": "display_data"
    },
    {
     "data": {
      "application/vnd.jupyter.widget-view+json": {
       "model_id": "41b7bcbd0e2043139b32c7edf198500d",
       "version_major": 2,
       "version_minor": 0
      },
      "text/plain": [
       "  0%|          | 0/14 [00:00<?, ?it/s]"
      ]
     },
     "metadata": {},
     "output_type": "display_data"
    },
    {
     "name": "stdout",
     "output_type": "stream",
     "text": [
      "epoch7: Train_loss:0.18926893045872817 Train_score:0.8108893470999635 Val_loss:0.2625212711947305 Val_score:0.7377545833587646\n"
     ]
    },
    {
     "data": {
      "application/vnd.jupyter.widget-view+json": {
       "model_id": "58bd4d5813794e55a829bb828f0588be",
       "version_major": 2,
       "version_minor": 0
      },
      "text/plain": [
       "  0%|          | 0/81 [00:00<?, ?it/s]"
      ]
     },
     "metadata": {},
     "output_type": "display_data"
    },
    {
     "data": {
      "application/vnd.jupyter.widget-view+json": {
       "model_id": "e106992c7e4c47029efa3573fecbe26e",
       "version_major": 2,
       "version_minor": 0
      },
      "text/plain": [
       "  0%|          | 0/14 [00:00<?, ?it/s]"
      ]
     },
     "metadata": {},
     "output_type": "display_data"
    },
    {
     "name": "stdout",
     "output_type": "stream",
     "text": [
      "epoch8: Train_loss:0.1908080599926136 Train_score:0.8093864645486997 Val_loss:0.2838049360683986 Val_score:0.7164738391126905\n"
     ]
    },
    {
     "data": {
      "application/vnd.jupyter.widget-view+json": {
       "model_id": "e6336a65276841c3b48f2fa39d458e34",
       "version_major": 2,
       "version_minor": 0
      },
      "text/plain": [
       "  0%|          | 0/81 [00:00<?, ?it/s]"
      ]
     },
     "metadata": {},
     "output_type": "display_data"
    },
    {
     "data": {
      "application/vnd.jupyter.widget-view+json": {
       "model_id": "c6cbf3fa1e2e4c739b950ceb603f8706",
       "version_major": 2,
       "version_minor": 0
      },
      "text/plain": [
       "  0%|          | 0/14 [00:00<?, ?it/s]"
      ]
     },
     "metadata": {},
     "output_type": "display_data"
    },
    {
     "name": "stdout",
     "output_type": "stream",
     "text": [
      "epoch9: Train_loss:0.16538640157676038 Train_score:0.8348506556616889 Val_loss:0.2856300984110151 Val_score:0.7146092525550297\n"
     ]
    },
    {
     "data": {
      "application/vnd.jupyter.widget-view+json": {
       "model_id": "28e3e2a26c0949eaa02c809032bb258a",
       "version_major": 2,
       "version_minor": 0
      },
      "text/plain": [
       "  0%|          | 0/81 [00:00<?, ?it/s]"
      ]
     },
     "metadata": {},
     "output_type": "display_data"
    },
    {
     "data": {
      "application/vnd.jupyter.widget-view+json": {
       "model_id": "bf8c2916ac544dab8c1e1c06b0778069",
       "version_major": 2,
       "version_minor": 0
      },
      "text/plain": [
       "  0%|          | 0/14 [00:00<?, ?it/s]"
      ]
     },
     "metadata": {},
     "output_type": "display_data"
    },
    {
     "name": "stdout",
     "output_type": "stream",
     "text": [
      "epoch10: Train_loss:0.15605034798751644 Train_score:0.8442325010711764 Val_loss:0.2722308806010655 Val_score:0.7281593893255506\n",
      "Epoch 00010: reducing learning rate of group 0 to 5.0000e-05.\n"
     ]
    },
    {
     "data": {
      "application/vnd.jupyter.widget-view+json": {
       "model_id": "240806460932418abcc0ac276108b439",
       "version_major": 2,
       "version_minor": 0
      },
      "text/plain": [
       "  0%|          | 0/81 [00:00<?, ?it/s]"
      ]
     },
     "metadata": {},
     "output_type": "display_data"
    },
    {
     "data": {
      "application/vnd.jupyter.widget-view+json": {
       "model_id": "0adab373c3c941669d2eb0c1bae0bfba",
       "version_major": 2,
       "version_minor": 0
      },
      "text/plain": [
       "  0%|          | 0/14 [00:00<?, ?it/s]"
      ]
     },
     "metadata": {},
     "output_type": "display_data"
    },
    {
     "name": "stdout",
     "output_type": "stream",
     "text": [
      "epoch11: Train_loss:0.13019289573033652 Train_score:0.8701653156751468 Val_loss:0.25935056805610657 Val_score:0.7411053308418819\n"
     ]
    },
    {
     "data": {
      "application/vnd.jupyter.widget-view+json": {
       "model_id": "f900f79f6ffe494e906df4f3ebf3dce5",
       "version_major": 2,
       "version_minor": 0
      },
      "text/plain": [
       "  0%|          | 0/81 [00:00<?, ?it/s]"
      ]
     },
     "metadata": {},
     "output_type": "display_data"
    },
    {
     "data": {
      "application/vnd.jupyter.widget-view+json": {
       "model_id": "e919514091cd4282a4d64dd90aa56cc3",
       "version_major": 2,
       "version_minor": 0
      },
      "text/plain": [
       "  0%|          | 0/14 [00:00<?, ?it/s]"
      ]
     },
     "metadata": {},
     "output_type": "display_data"
    },
    {
     "name": "stdout",
     "output_type": "stream",
     "text": [
      "epoch12: Train_loss:0.123814226668558 Train_score:0.8765679987860314 Val_loss:0.2420320553439004 Val_score:0.7587604863303048\n"
     ]
    },
    {
     "data": {
      "application/vnd.jupyter.widget-view+json": {
       "model_id": "45f3036c94704edf9b6f6cd73ceef667",
       "version_major": 2,
       "version_minor": 0
      },
      "text/plain": [
       "  0%|          | 0/81 [00:00<?, ?it/s]"
      ]
     },
     "metadata": {},
     "output_type": "display_data"
    },
    {
     "data": {
      "application/vnd.jupyter.widget-view+json": {
       "model_id": "b97e857b039848baba2b7964dceda602",
       "version_major": 2,
       "version_minor": 0
      },
      "text/plain": [
       "  0%|          | 0/14 [00:00<?, ?it/s]"
      ]
     },
     "metadata": {},
     "output_type": "display_data"
    },
    {
     "name": "stdout",
     "output_type": "stream",
     "text": [
      "epoch13: Train_loss:0.11590347540231398 Train_score:0.8845138689618052 Val_loss:0.2629301973751613 Val_score:0.7376128903457096\n"
     ]
    },
    {
     "data": {
      "application/vnd.jupyter.widget-view+json": {
       "model_id": "0ad9f2c33cb84d26bdbb02fba2c29c15",
       "version_major": 2,
       "version_minor": 0
      },
      "text/plain": [
       "  0%|          | 0/81 [00:00<?, ?it/s]"
      ]
     },
     "metadata": {},
     "output_type": "display_data"
    },
    {
     "data": {
      "application/vnd.jupyter.widget-view+json": {
       "model_id": "608d9a9210f547eeacd8c8389c76bee5",
       "version_major": 2,
       "version_minor": 0
      },
      "text/plain": [
       "  0%|          | 0/14 [00:00<?, ?it/s]"
      ]
     },
     "metadata": {},
     "output_type": "display_data"
    },
    {
     "name": "stdout",
     "output_type": "stream",
     "text": [
      "epoch14: Train_loss:0.11870778416409905 Train_score:0.8817150011474704 Val_loss:0.2583247039999281 Val_score:0.7421744423253196\n"
     ]
    },
    {
     "data": {
      "application/vnd.jupyter.widget-view+json": {
       "model_id": "054d0f8b404846bfba7ce718a0150a4b",
       "version_major": 2,
       "version_minor": 0
      },
      "text/plain": [
       "  0%|          | 0/81 [00:00<?, ?it/s]"
      ]
     },
     "metadata": {},
     "output_type": "display_data"
    },
    {
     "data": {
      "application/vnd.jupyter.widget-view+json": {
       "model_id": "f42d4cf444004e71a523878b8723b6da",
       "version_major": 2,
       "version_minor": 0
      },
      "text/plain": [
       "  0%|          | 0/14 [00:00<?, ?it/s]"
      ]
     },
     "metadata": {},
     "output_type": "display_data"
    },
    {
     "name": "stdout",
     "output_type": "stream",
     "text": [
      "epoch15: Train_loss:0.10996093205463739 Train_score:0.89043653084908 Val_loss:0.2561489811965397 Val_score:0.7443258549485888\n",
      "Epoch 00015: reducing learning rate of group 0 to 2.5000e-05.\n"
     ]
    },
    {
     "data": {
      "application/vnd.jupyter.widget-view+json": {
       "model_id": "2d38f149b67344f5b6e29b6c64905808",
       "version_major": 2,
       "version_minor": 0
      },
      "text/plain": [
       "  0%|          | 0/81 [00:00<?, ?it/s]"
      ]
     },
     "metadata": {},
     "output_type": "display_data"
    },
    {
     "data": {
      "application/vnd.jupyter.widget-view+json": {
       "model_id": "f60e9ce67066461d8f6939c0e421736f",
       "version_major": 2,
       "version_minor": 0
      },
      "text/plain": [
       "  0%|          | 0/14 [00:00<?, ?it/s]"
      ]
     },
     "metadata": {},
     "output_type": "display_data"
    },
    {
     "name": "stdout",
     "output_type": "stream",
     "text": [
      "epoch16: Train_loss:0.10020881670492666 Train_score:0.9002102929868816 Val_loss:0.25457647017070223 Val_score:0.7459401062556675\n"
     ]
    },
    {
     "data": {
      "application/vnd.jupyter.widget-view+json": {
       "model_id": "a2da8dea76ac4f278da97ca632e8066d",
       "version_major": 2,
       "version_minor": 0
      },
      "text/plain": [
       "  0%|          | 0/81 [00:00<?, ?it/s]"
      ]
     },
     "metadata": {},
     "output_type": "display_data"
    },
    {
     "data": {
      "application/vnd.jupyter.widget-view+json": {
       "model_id": "e1790df4515941628bff499f868d09b7",
       "version_major": 2,
       "version_minor": 0
      },
      "text/plain": [
       "  0%|          | 0/14 [00:00<?, ?it/s]"
      ]
     },
     "metadata": {},
     "output_type": "display_data"
    },
    {
     "name": "stdout",
     "output_type": "stream",
     "text": [
      "epoch17: Train_loss:0.09868125635900615 Train_score:0.9017397768703508 Val_loss:0.24798088840075902 Val_score:0.7525240182876587\n"
     ]
    },
    {
     "data": {
      "application/vnd.jupyter.widget-view+json": {
       "model_id": "d5e33d7e38c64c7a9268fc83b196302e",
       "version_major": 2,
       "version_minor": 0
      },
      "text/plain": [
       "  0%|          | 0/81 [00:00<?, ?it/s]"
      ]
     },
     "metadata": {},
     "output_type": "display_data"
    },
    {
     "data": {
      "application/vnd.jupyter.widget-view+json": {
       "model_id": "3811d88224e0410aadbb39c7553342fd",
       "version_major": 2,
       "version_minor": 0
      },
      "text/plain": [
       "  0%|          | 0/14 [00:00<?, ?it/s]"
      ]
     },
     "metadata": {},
     "output_type": "display_data"
    },
    {
     "name": "stdout",
     "output_type": "stream",
     "text": [
      "epoch18: Train_loss:0.09541540749279069 Train_score:0.9049800634384155 Val_loss:0.24341108969279698 Val_score:0.7574092149734497\n",
      "Epoch 00018: reducing learning rate of group 0 to 1.2500e-05.\n"
     ]
    },
    {
     "data": {
      "application/vnd.jupyter.widget-view+json": {
       "model_id": "1305427f44184efcabe4041cd9f8568d",
       "version_major": 2,
       "version_minor": 0
      },
      "text/plain": [
       "  0%|          | 0/81 [00:00<?, ?it/s]"
      ]
     },
     "metadata": {},
     "output_type": "display_data"
    },
    {
     "data": {
      "application/vnd.jupyter.widget-view+json": {
       "model_id": "a257dd96577a459bb7fd7b00a3ffbdc8",
       "version_major": 2,
       "version_minor": 0
      },
      "text/plain": [
       "  0%|          | 0/14 [00:00<?, ?it/s]"
      ]
     },
     "metadata": {},
     "output_type": "display_data"
    },
    {
     "name": "stdout",
     "output_type": "stream",
     "text": [
      "epoch19: Train_loss:0.0924274111971443 Train_score:0.9079679213924172 Val_loss:0.2457070435796465 Val_score:0.7548269714627948\n"
     ]
    },
    {
     "data": {
      "application/vnd.jupyter.widget-view+json": {
       "model_id": "8eb28751b6c146248599fdc68c72346d",
       "version_major": 2,
       "version_minor": 0
      },
      "text/plain": [
       "  0%|          | 0/81 [00:00<?, ?it/s]"
      ]
     },
     "metadata": {},
     "output_type": "display_data"
    },
    {
     "data": {
      "application/vnd.jupyter.widget-view+json": {
       "model_id": "0c5d13b81b8e4e9289fa4ca35e343705",
       "version_major": 2,
       "version_minor": 0
      },
      "text/plain": [
       "  0%|          | 0/14 [00:00<?, ?it/s]"
      ]
     },
     "metadata": {},
     "output_type": "display_data"
    },
    {
     "name": "stdout",
     "output_type": "stream",
     "text": [
      "epoch20: Train_loss:0.08962020756285867 Train_score:0.9107646853835495 Val_loss:0.2605828515120915 Val_score:0.7398623824119568\n"
     ]
    }
   ],
   "source": [
    "infer_model, result, columns = train(model, criterion, optimizer, train_loader, val_loader, scheduler, device)"
   ]
  },
  {
   "attachments": {},
   "cell_type": "markdown",
   "metadata": {},
   "source": [
    "## 결과 그래프"
   ]
  },
  {
   "cell_type": "code",
   "execution_count": 46,
   "metadata": {},
   "outputs": [
    {
     "data": {
      "text/html": [
       "<div>\n",
       "<style scoped>\n",
       "    .dataframe tbody tr th:only-of-type {\n",
       "        vertical-align: middle;\n",
       "    }\n",
       "\n",
       "    .dataframe tbody tr th {\n",
       "        vertical-align: top;\n",
       "    }\n",
       "\n",
       "    .dataframe thead th {\n",
       "        text-align: right;\n",
       "    }\n",
       "</style>\n",
       "<table border=\"1\" class=\"dataframe\">\n",
       "  <thead>\n",
       "    <tr style=\"text-align: right;\">\n",
       "      <th></th>\n",
       "      <th>Train Loss</th>\n",
       "      <th>Train Dice Score</th>\n",
       "      <th>Validation Loss</th>\n",
       "      <th>Validation Dice Score</th>\n",
       "    </tr>\n",
       "  </thead>\n",
       "  <tbody>\n",
       "    <tr>\n",
       "      <th>epoch:16</th>\n",
       "      <td>0.100209</td>\n",
       "      <td>0.900210</td>\n",
       "      <td>0.254576</td>\n",
       "      <td>0.745940</td>\n",
       "    </tr>\n",
       "    <tr>\n",
       "      <th>epoch:17</th>\n",
       "      <td>0.098681</td>\n",
       "      <td>0.901740</td>\n",
       "      <td>0.247981</td>\n",
       "      <td>0.752524</td>\n",
       "    </tr>\n",
       "    <tr>\n",
       "      <th>epoch:18</th>\n",
       "      <td>0.095415</td>\n",
       "      <td>0.904980</td>\n",
       "      <td>0.243411</td>\n",
       "      <td>0.757409</td>\n",
       "    </tr>\n",
       "    <tr>\n",
       "      <th>epoch:19</th>\n",
       "      <td>0.092427</td>\n",
       "      <td>0.907968</td>\n",
       "      <td>0.245707</td>\n",
       "      <td>0.754827</td>\n",
       "    </tr>\n",
       "    <tr>\n",
       "      <th>epoch:20</th>\n",
       "      <td>0.089620</td>\n",
       "      <td>0.910765</td>\n",
       "      <td>0.260583</td>\n",
       "      <td>0.739862</td>\n",
       "    </tr>\n",
       "  </tbody>\n",
       "</table>\n",
       "</div>"
      ],
      "text/plain": [
       "          Train Loss  Train Dice Score  Validation Loss  Validation Dice Score\n",
       "epoch:16    0.100209          0.900210         0.254576               0.745940\n",
       "epoch:17    0.098681          0.901740         0.247981               0.752524\n",
       "epoch:18    0.095415          0.904980         0.243411               0.757409\n",
       "epoch:19    0.092427          0.907968         0.245707               0.754827\n",
       "epoch:20    0.089620          0.910765         0.260583               0.739862"
      ]
     },
     "execution_count": 46,
     "metadata": {},
     "output_type": "execute_result"
    }
   ],
   "source": [
    "result_df = pd.DataFrame(data = result, index = columns, columns = [\"Train Loss\", \"Train Dice Score\", \"Validation Loss\", \"Validation Dice Score\"])\n",
    "result_df.tail()"
   ]
  },
  {
   "cell_type": "code",
   "execution_count": 47,
   "metadata": {},
   "outputs": [
    {
     "data": {
      "text/plain": [
       "<Axes: >"
      ]
     },
     "execution_count": 47,
     "metadata": {},
     "output_type": "execute_result"
    },
    {
     "data": {
      "image/png": "[encoded data removed]",
      "text/plain": [
       "<Figure size 640x480 with 1 Axes>"
      ]
     },
     "metadata": {},
     "output_type": "display_data"
    }
   ],
   "source": [
    "result_df[[\"Train Dice Score\", \"Validation Dice Score\"]].plot()"
   ]
  },
  {
   "cell_type": "code",
   "execution_count": 48,
   "metadata": {},
   "outputs": [
    {
     "data": {
      "text/plain": [
       "<Axes: >"
      ]
     },
     "execution_count": 48,
     "metadata": {},
     "output_type": "execute_result"
    },
    {
     "data": {
      "image/png": "[encoded data removed]",
      "text/plain": [
       "<Figure size 640x480 with 1 Axes>"
      ]
     },
     "metadata": {},
     "output_type": "display_data"
    }
   ],
   "source": [
    "result_df[[\"Train Loss\", \"Validation Loss\"]].plot()"
   ]
  },
  {
   "attachments": {},
   "cell_type": "markdown",
   "metadata": {},
   "source": [
    "## 결과 저장"
   ]
  },
  {
   "cell_type": "code",
   "execution_count": 49,
   "metadata": {},
   "outputs": [],
   "source": [
    "# 데이터프레임 저장\n",
    "os.makedirs(f\"{output_path}\", exist_ok=True)\n",
    "os.makedirs(f\"{trainframe_path}\", exist_ok=True)\n",
    "result_df.to_excel(f\"{trainframe_name}\")"
   ]
  },
  {
   "cell_type": "code",
   "execution_count": 50,
   "metadata": {},
   "outputs": [],
   "source": [
    "# 모델 저장\n",
    "os.makedirs(f\"{pth_path}\", exist_ok=True)\n",
    "torch.save(infer_model.state_dict(), pth_name)"
   ]
  }
 ],
 "metadata": {
  "kernelspec": {
   "display_name": "Python 3 (ipykernel)",
   "language": "python",
   "name": "python3"
  },
  "language_info": {
   "codemirror_mode": {
    "name": "ipython",
    "version": 3
   },
   "file_extension": ".py",
   "mimetype": "text/x-python",
   "name": "python",
   "nbconvert_exporter": "python",
   "pygments_lexer": "ipython3",
   "version": "3.10.11"
  }
 },
 "nbformat": 4,
 "nbformat_minor": 2
}
