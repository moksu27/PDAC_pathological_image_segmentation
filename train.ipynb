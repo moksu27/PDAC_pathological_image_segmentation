{
 "cells": [
  {
   "cell_type": "code",
   "execution_count": 1,
   "metadata": {},
   "outputs": [],
   "source": [
    "import glob\n",
    "import torch\n",
    "import torch.nn as nn\n",
    "import numpy as np\n",
    "from torch.utils.data.dataset import Dataset\n",
    "import matplotlib.pyplot as plt\n",
    "from PIL import Image\n",
    "from tqdm.auto import tqdm\n",
    "from torchvision.transforms import ToPILImage\n",
    "from torch.optim.adam import Adam\n",
    "from torch.utils.data.dataloader import DataLoader\n",
    "import torchvision.models as models\n",
    "import random\n",
    "import os\n",
    "import cv2\n",
    "import albumentations as A\n",
    "from albumentations.pytorch import ToTensorV2\n",
    "from IPython.core.debugger import set_trace\n",
    "import pandas as pd\n",
    "import datetime\n",
    "import pytz\n",
    "import albumentations as A\n",
    "from albumentations.pytorch.transforms import ToTensorV2\n",
    "import re\n",
    "import torch.nn.functional as F"
   ]
  },
  {
   "attachments": {},
   "cell_type": "markdown",
   "metadata": {},
   "source": [
    "## 파라미터 설정"
   ]
  },
  {
   "cell_type": "code",
   "execution_count": 2,
   "metadata": {},
   "outputs": [
    {
     "data": {
      "text/plain": [
       "'cuda'"
      ]
     },
     "execution_count": 2,
     "metadata": {},
     "output_type": "execute_result"
    }
   ],
   "source": [
    "device = \"cuda\" if torch.cuda.is_available() else \"cpu\"\n",
    "device"
   ]
  },
  {
   "cell_type": "code",
   "execution_count": 3,
   "metadata": {},
   "outputs": [
    {
     "data": {
      "text/plain": [
       "'\\n# 맥 mps 설정\\ndevice = torch.device(\"mps:0\" if torch.backends.mps.is_available() else \"cpu\")\\nprint(f\"현재 디바이스는 {device} 입니다.\")\\n'"
      ]
     },
     "execution_count": 3,
     "metadata": {},
     "output_type": "execute_result"
    }
   ],
   "source": [
    "'''\n",
    "# 맥 mps 설정\n",
    "device = torch.device(\"mps:0\" if torch.backends.mps.is_available() else \"cpu\")\n",
    "print(f\"현재 디바이스는 {device} 입니다.\")\n",
    "'''"
   ]
  },
  {
   "cell_type": "code",
   "execution_count": 4,
   "metadata": {},
   "outputs": [],
   "source": [
    "CFG = {\n",
    "    'IMG_SIZE':512,\n",
    "    'EPOCHS':50,\n",
    "    'LEARNING_RATE':1e-4,\n",
    "    'BATCH_SIZE': 64,\n",
    "    'SEED':41,\n",
    "    'MEAN' : [0.485, 0.456, 0.406],\n",
    "    'STD'  : [0.229, 0.224, 0.225],\n",
    "    'train_magnification':\"20X\"\n",
    "}"
   ]
  },
  {
   "cell_type": "code",
   "execution_count": 5,
   "metadata": {},
   "outputs": [
    {
     "name": "stdout",
     "output_type": "stream",
     "text": [
      "2023_06_13 01:18_PM\n"
     ]
    }
   ],
   "source": [
    "kst = pytz.timezone('Asia/Seoul')\n",
    "current_datetime = datetime.datetime.now(kst)\n",
    "day = current_datetime.strftime(\"%Y_%m_%d\")\n",
    "hour = current_datetime.strftime(\"%I:%M_%p\")\n",
    "print(day, hour)"
   ]
  },
  {
   "cell_type": "code",
   "execution_count": 6,
   "metadata": {},
   "outputs": [],
   "source": [
    "# server path\n",
    "output_path = f\"/data/output/{day}\"\n",
    "pth_path = f\"/data/pthfile/{day}\"\n",
    "trainframe_path = f\"{output_path}/trainframe\"\n",
    "train_data_path = f\"/data/PDA_mask_img/train/{CFG['train_magnification']}/**/*.png\"\n",
    "val_data_path = f\"/data/PDA_mask_img/validation_mask/{CFG['train_magnification']}/**/*.png\""
   ]
  },
  {
   "cell_type": "code",
   "execution_count": 7,
   "metadata": {},
   "outputs": [],
   "source": [
    "# server output name\n",
    "trainframe_name = f\"{trainframe_path}/train:{CFG['train_magnification']}_epoch:{CFG['EPOCHS']}_{hour}.xlsx\"\n",
    "pth_name=f\"{pth_path}/train:{CFG['train_magnification']}_epoch:{CFG['EPOCHS']}_{hour}.pth\""
   ]
  },
  {
   "cell_type": "code",
   "execution_count": 8,
   "metadata": {},
   "outputs": [
    {
     "data": {
      "text/plain": [
       "'\\noutput_path = f\"git_ignore/output/{day}\"\\npth_path = f\"git_ignore/pthfile/{day}\"\\ntrainframe_path = f\"{output_path}/trainframe\"\\ntrain_data_path = f\"git_ignore/PDA_mask_img/train/{CFG[\\'train_magnification\\']}/**/*.png\"\\nval_data_path = f\"git_ignore/PDA_mask_img/validation_mask/{CFG[\\'train_magnification\\']}/**/*.png\"\\n'"
      ]
     },
     "execution_count": 8,
     "metadata": {},
     "output_type": "execute_result"
    }
   ],
   "source": [
    "# local path\n",
    "'''\n",
    "output_path = f\"git_ignore/output/{day}\"\n",
    "pth_path = f\"git_ignore/pthfile/{day}\"\n",
    "trainframe_path = f\"{output_path}/trainframe\"\n",
    "train_data_path = f\"git_ignore/PDA_mask_img/train/{CFG['train_magnification']}/**/*.png\"\n",
    "val_data_path = f\"git_ignore/PDA_mask_img/validation_mask/{CFG['train_magnification']}/**/*.png\"\n",
    "'''"
   ]
  },
  {
   "cell_type": "code",
   "execution_count": 9,
   "metadata": {},
   "outputs": [
    {
     "data": {
      "text/plain": [
       "'\\ntrainframe_name = f\"{trainframe_path}/train:{CFG[\\'train_magnification\\']}_epoch:{CFG[\\'EPOCHS\\']}_{hour}.xlsx\"\\npth_name=f\"{pth_path}/train:{CFG[\\'train_magnification\\']}_epoch:{CFG[\\'EPOCHS\\']}_{hour}.pth\"\\n'"
      ]
     },
     "execution_count": 9,
     "metadata": {},
     "output_type": "execute_result"
    }
   ],
   "source": [
    "# local output name\n",
    "'''\n",
    "trainframe_name = f\"{trainframe_path}/train:{CFG['train_magnification']}_epoch:{CFG['EPOCHS']}_{hour}.xlsx\"\n",
    "pth_name=f\"{pth_path}/train:{CFG['train_magnification']}_epoch:{CFG['EPOCHS']}_{hour}.pth\"\n",
    "'''"
   ]
  },
  {
   "cell_type": "code",
   "execution_count": 10,
   "metadata": {},
   "outputs": [],
   "source": [
    "# 시드 고정\n",
    "def seed_everything(seed):\n",
    "    random.seed(seed)\n",
    "    os.environ['PYTHONHASHSEED'] = str(seed)\n",
    "    np.random.seed(seed)\n",
    "    torch.manual_seed(seed)\n",
    "    torch.cuda.manual_seed(seed)\n",
    "    torch.backends.cudnn.deterministic = True\n",
    "    torch.backends.cudnn.benchmark = True\n",
    "\n",
    "seed_everything(CFG['SEED']) # Seed 고정"
   ]
  },
  {
   "attachments": {},
   "cell_type": "markdown",
   "metadata": {},
   "source": [
    "## 데이터 경로지정"
   ]
  },
  {
   "cell_type": "code",
   "execution_count": 11,
   "metadata": {},
   "outputs": [
    {
     "data": {
      "text/plain": [
       "['/data/PDA_mask_img/train/20X/C3L-00017-22/C3L-00017-22 [d=1.01174,x=10073,y=10073,w=518,h=518]-labelled.png',\n",
       " '/data/PDA_mask_img/train/20X/C3L-00017-22/C3L-00017-22 [d=1.01174,x=10073,y=10338,w=518,h=518]-labelled.png',\n",
       " '/data/PDA_mask_img/train/20X/C3L-00017-22/C3L-00017-22 [d=1.01174,x=10073,y=10603,w=518,h=518]-labelled.png',\n",
       " '/data/PDA_mask_img/train/20X/C3L-00017-22/C3L-00017-22 [d=1.01174,x=10073,y=11663,w=518,h=518]-labelled.png',\n",
       " '/data/PDA_mask_img/train/20X/C3L-00017-22/C3L-00017-22 [d=1.01174,x=10073,y=11928,w=518,h=518]-labelled.png']"
      ]
     },
     "execution_count": 11,
     "metadata": {},
     "output_type": "execute_result"
    }
   ],
   "source": [
    "train_path_list = sorted(glob.glob(train_data_path))\n",
    "train_mask_path = train_path_list[0::2]\n",
    "train_img_path = train_path_list[1::2]\n",
    "train_mask_path[:5]"
   ]
  },
  {
   "cell_type": "code",
   "execution_count": 12,
   "metadata": {},
   "outputs": [
    {
     "data": {
      "text/plain": [
       "['/data/PDA_mask_img/validation_mask/20X/C3L-00277-22/C3L-00277-22 [d=1.01174,x=10360,y=15022,w=518,h=518]-labelled.png',\n",
       " '/data/PDA_mask_img/validation_mask/20X/C3L-00277-22/C3L-00277-22 [d=1.01174,x=10360,y=15540,w=518,h=518]-labelled.png',\n",
       " '/data/PDA_mask_img/validation_mask/20X/C3L-00277-22/C3L-00277-22 [d=1.01174,x=10360,y=16058,w=518,h=518]-labelled.png',\n",
       " '/data/PDA_mask_img/validation_mask/20X/C3L-00277-22/C3L-00277-22 [d=1.01174,x=10360,y=16576,w=518,h=518]-labelled.png',\n",
       " '/data/PDA_mask_img/validation_mask/20X/C3L-00277-22/C3L-00277-22 [d=1.01174,x=10360,y=18130,w=518,h=518]-labelled.png']"
      ]
     },
     "execution_count": 12,
     "metadata": {},
     "output_type": "execute_result"
    }
   ],
   "source": [
    "val_path_list = sorted(glob.glob(val_data_path))\n",
    "val_mask_path = val_path_list[0::2]\n",
    "val_img_path = val_path_list[1::2]\n",
    "val_mask_path[:5]"
   ]
  },
  {
   "cell_type": "code",
   "execution_count": 13,
   "metadata": {},
   "outputs": [
    {
     "data": {
      "text/plain": [
       "<matplotlib.image.AxesImage at 0x7f004ed5ef50>"
      ]
     },
     "execution_count": 13,
     "metadata": {},
     "output_type": "execute_result"
    },
    {
     "data": {
      "image/png": "[encoded data removed]",
      "text/plain": [
       "<Figure size 640x480 with 2 Axes>"
      ]
     },
     "metadata": {},
     "output_type": "display_data"
    }
   ],
   "source": [
    "annotation = cv2.imread(train_mask_path[0])\n",
    "image = cv2.imread(train_img_path[0])\n",
    "image = cv2.cvtColor(image, cv2.COLOR_BGR2RGB)\n",
    "plt.subplot(1,2,1)\n",
    "plt.title(\"annotations\")\n",
    "plt.imshow(annotation)\n",
    "\n",
    "plt.subplot(1,2,2)\n",
    "plt.title(\"image\")\n",
    "plt.imshow(image)"
   ]
  },
  {
   "cell_type": "code",
   "execution_count": 14,
   "metadata": {},
   "outputs": [],
   "source": [
    "# Custom Dataset\n",
    "class CustomDataset(Dataset):\n",
    "    def __init__(self, img_path, mask_path, transform = None):\n",
    "        self.image = img_path\n",
    "        self.mask = mask_path\n",
    "        \n",
    "        n_samples =  len(self.image)\n",
    "        \n",
    "        # 데이터 미리 섞어줌\n",
    "        np.random.seed(CFG['SEED'])\n",
    "        idxs = np.random.permutation(range(n_samples))\n",
    "        \n",
    "        self.image = np.array(self.image)[idxs]\n",
    "        self.mask = np.array(self.mask)[idxs]\n",
    "        self.transform = transform\n",
    "\n",
    "    def __len__(self):\n",
    "        return len(self.image) # 데이터셋 길이\n",
    "    \n",
    "    def __getitem__(self, i):\n",
    "        image = np.array(Image.open(self.image[i]))\n",
    "        mask = np.array(Image.open(self.mask[i]))\n",
    "        data = self.transform(image = image, mask = mask)\n",
    "        image = data[\"image\"]\n",
    "        mask = data[\"mask\"]\n",
    "        return image, mask"
   ]
  },
  {
   "attachments": {},
   "cell_type": "markdown",
   "metadata": {},
   "source": [
    "## 데이터 불러오기"
   ]
  },
  {
   "cell_type": "code",
   "execution_count": 15,
   "metadata": {},
   "outputs": [
    {
     "data": {
      "text/plain": [
       "'\\nA.OneOf([\\n        A.MotionBlur(p=0.3),\\n        A.OpticalDistortion(p=0.3),\\n        A.GaussNoise(p=0.3)                 \\n], p=0.3),\\n'"
      ]
     },
     "execution_count": 15,
     "metadata": {},
     "output_type": "execute_result"
    }
   ],
   "source": [
    "# transform\n",
    "train_transform = A.Compose([\n",
    "        A.Resize(CFG['IMG_SIZE'],CFG['IMG_SIZE']),\n",
    "        A.Normalize(mean=CFG['MEAN'], std = CFG['STD']),\n",
    "        A.ColorJitter(brightness=0.2, contrast=0.2, saturation=0.2, hue=0.2),\n",
    "        A.OneOf([\n",
    "                A.HorizontalFlip(p=0.3),\n",
    "                A.RandomRotate90(p=0.3),\n",
    "                A.VerticalFlip(p=0.3)            \n",
    "        ], p=0.3),\n",
    "        ToTensorV2(transpose_mask=True)\n",
    "])\n",
    "\n",
    "'''\n",
    "A.OneOf([\n",
    "        A.MotionBlur(p=0.3),\n",
    "        A.OpticalDistortion(p=0.3),\n",
    "        A.GaussNoise(p=0.3)                 \n",
    "], p=0.3),\n",
    "'''"
   ]
  },
  {
   "cell_type": "code",
   "execution_count": 16,
   "metadata": {},
   "outputs": [],
   "source": [
    "val_transform = A.Compose([\n",
    "        A.Resize(CFG['IMG_SIZE'],CFG['IMG_SIZE']),\n",
    "        A.Normalize(mean=CFG['MEAN'], std = CFG['STD']),\n",
    "        ToTensorV2(transpose_mask=True)\n",
    "])"
   ]
  },
  {
   "cell_type": "code",
   "execution_count": 17,
   "metadata": {},
   "outputs": [],
   "source": [
    "# 학습용 데이터\n",
    "train_set = CustomDataset(img_path = train_img_path,\n",
    "                          mask_path = train_mask_path,\n",
    "                          transform = train_transform)\n",
    "\n",
    "val_set = CustomDataset(img_path = val_img_path,\n",
    "                         mask_path= val_mask_path,\n",
    "                         transform = val_transform)"
   ]
  },
  {
   "cell_type": "code",
   "execution_count": 18,
   "metadata": {},
   "outputs": [],
   "source": [
    "train_loader = DataLoader(train_set, batch_size = CFG[\"BATCH_SIZE\"], shuffle = True)\n",
    "val_loader = DataLoader(val_set, batch_size = CFG[\"BATCH_SIZE\"])"
   ]
  },
  {
   "cell_type": "code",
   "execution_count": 19,
   "metadata": {},
   "outputs": [
    {
     "name": "stdout",
     "output_type": "stream",
     "text": [
      "train_data : 4427 / val_data : 445\n"
     ]
    }
   ],
   "source": [
    "print(f\"train_data : {len(train_set)} / val_data : {len(val_set)}\")"
   ]
  },
  {
   "attachments": {},
   "cell_type": "markdown",
   "metadata": {},
   "source": [
    "## 학습"
   ]
  },
  {
   "cell_type": "code",
   "execution_count": 20,
   "metadata": {},
   "outputs": [],
   "source": [
    "# Modeling\n",
    "class ResUNet(nn.Module):\n",
    "    def __init__(self, num_classes):\n",
    "        super(ResUNet, self).__init__()\n",
    "        self.encoder = models.resnet18(pretrained=True)\n",
    "        self.pool = nn.MaxPool2d(kernel_size=2, stride=2)\n",
    "        self.relu = nn.ReLU(inplace=True)\n",
    "        self.upconv1 = nn.ConvTranspose2d(512, 256, kernel_size=2, stride=2)\n",
    "        self.conv1 = nn.Conv2d(512, 256, kernel_size=3, padding=1)\n",
    "        self.upconv2 = nn.ConvTranspose2d(256, 128, kernel_size=2, stride=2)\n",
    "        self.conv2 = nn.Conv2d(256, 128, kernel_size=3, padding=1)\n",
    "        self.upconv3 = nn.ConvTranspose2d(128, 64, kernel_size=2, stride=2)\n",
    "        self.conv3 = nn.Conv2d(128, 64, kernel_size=3, padding=1)\n",
    "        self.conv4 = nn.Conv2d(64, num_classes, kernel_size=1)\n",
    "\n",
    "    def forward(self, x):\n",
    "        # Encoder\n",
    "        x1 = self.encoder.conv1(x)\n",
    "        x1 = self.encoder.bn1(x1)\n",
    "        x1 = self.encoder.relu(x1)\n",
    "        x1 = self.encoder.maxpool(x1)\n",
    "\n",
    "        x2 = self.encoder.layer1(x1)\n",
    "        x3 = self.encoder.layer2(x2)\n",
    "        x4 = self.encoder.layer3(x3)\n",
    "        x5 = self.encoder.layer4(x4)\n",
    "\n",
    "        # Decoder\n",
    "        x = self.upconv1(x5)\n",
    "        x = torch.cat((x, x4), dim=1)\n",
    "        x = self.relu(self.conv1(x))\n",
    "\n",
    "        x = self.upconv2(x)\n",
    "        x = torch.cat((x, x3), dim=1)\n",
    "        x = self.relu(self.conv2(x))\n",
    "\n",
    "        x = self.upconv3(x)\n",
    "        x = torch.cat((x, x2), dim=1)\n",
    "        x = self.relu(self.conv3(x))\n",
    "\n",
    "        x = self.conv4(x)\n",
    "\n",
    "        # Resize to 512x512\n",
    "        x = nn.functional.interpolate(x, size=(512, 512), mode='bilinear', align_corners=False)\n",
    "\n",
    "        return x"
   ]
  },
  {
   "cell_type": "code",
   "execution_count": 21,
   "metadata": {},
   "outputs": [],
   "source": [
    "class DiceLoss(nn.Module):\n",
    "    def __init__(self):\n",
    "        super(DiceLoss, self).__init__()\n",
    "\n",
    "    def forward(self, inputs, targets, smooth=1):\n",
    "        \n",
    "        inputs = F.sigmoid(inputs) # sigmoid를 통과한 출력이면 주석처리\n",
    "        \n",
    "        inputs = inputs.view(-1)\n",
    "        targets = targets.view(-1)\n",
    "        \n",
    "        intersection = (inputs * targets).sum()                            \n",
    "        dice = (2.*intersection + smooth) / (inputs.sum() + targets.sum() + smooth)  \n",
    "        \n",
    "        return 1 - dice "
   ]
  },
  {
   "cell_type": "code",
   "execution_count": 22,
   "metadata": {},
   "outputs": [
    {
     "name": "stderr",
     "output_type": "stream",
     "text": [
      "/opt/conda/lib/python3.10/site-packages/torchvision/models/_utils.py:208: UserWarning: The parameter 'pretrained' is deprecated since 0.13 and may be removed in the future, please use 'weights' instead.\n",
      "  warnings.warn(\n",
      "/opt/conda/lib/python3.10/site-packages/torchvision/models/_utils.py:223: UserWarning: Arguments other than a weight enum or `None` for 'weights' are deprecated since 0.13 and may be removed in the future. The current behavior is equivalent to passing `weights=ResNet18_Weights.IMAGENET1K_V1`. You can also use `weights=ResNet18_Weights.DEFAULT` to get the most up-to-date weights.\n",
      "  warnings.warn(msg)\n"
     ]
    }
   ],
   "source": [
    "# 학습 파라미터\n",
    "model = ResUNet(num_classes=1).to(device)\n",
    "model = nn.DataParallel(model)\n",
    "optimizer = Adam(params = model.parameters(), lr = CFG[\"LEARNING_RATE\"])\n",
    "scheduler = torch.optim.lr_scheduler.ReduceLROnPlateau(optimizer, mode='max', factor=0.5, patience=2, threshold_mode='abs', min_lr=1e-8, verbose=True)\n",
    "criterion = DiceLoss().to(device)"
   ]
  },
  {
   "cell_type": "code",
   "execution_count": 23,
   "metadata": {},
   "outputs": [],
   "source": [
    "def dice_score(pred, target, smooth=1e-6):\n",
    "    intersection = (pred * target).sum()\n",
    "    union = pred.sum() + target.sum()\n",
    "    dice = (2.0 * intersection + smooth) / (union + smooth)\n",
    "    return dice"
   ]
  },
  {
   "cell_type": "code",
   "execution_count": 24,
   "metadata": {},
   "outputs": [],
   "source": [
    "# 평균값 계산\n",
    "class AverageMeter: \n",
    "    def __init__(self):\n",
    "        self.reset()\n",
    "\n",
    "    def reset(self):\n",
    "        self.val = 0\n",
    "        self.avg = 0\n",
    "        self.sum = 0\n",
    "        self.count = 0\n",
    "\n",
    "    def update(self, val, n=1):\n",
    "        self.val = val\n",
    "        self.sum += val * n\n",
    "        self.count += n\n",
    "        self.avg = self.sum / self.count"
   ]
  },
  {
   "cell_type": "code",
   "execution_count": 25,
   "metadata": {},
   "outputs": [],
   "source": [
    "class EarlyStop:\n",
    "    def __init__(self, patience=5, delta=0):\n",
    "        self.patience = patience\n",
    "        self.delta = delta\n",
    "        self.best_score = None\n",
    "        self.counter = 0\n",
    "        self.early_stop = False\n",
    "        self.val_loss_min = np.Inf\n",
    "\n",
    "    def __call__(self, val_score):\n",
    "        if self.best_score is None:\n",
    "            self.best_score = val_score\n",
    "        elif val_score < self.best_score + self.delta:\n",
    "            self.counter += 1\n",
    "            if self.counter >= self.patience:\n",
    "                self.early_stop = True\n",
    "        else:\n",
    "            self.best_score = val_score\n",
    "            self.counter = 0"
   ]
  },
  {
   "cell_type": "code",
   "execution_count": 26,
   "metadata": {},
   "outputs": [],
   "source": [
    "loss_meter = AverageMeter()\n",
    "score_meter = AverageMeter()\n",
    "early_stopping = EarlyStop(patience = 20, delta = 0)"
   ]
  },
  {
   "cell_type": "code",
   "execution_count": 27,
   "metadata": {},
   "outputs": [],
   "source": [
    "def validation(model, criterion, val_loader, device):\n",
    "    model.eval()\n",
    "    with torch.no_grad():\n",
    "        for img, label in tqdm(val_loader):\n",
    "            out = model(img.to(device))\n",
    "            out = torch.squeeze(out)\n",
    "            pred = torch.ge(out.sigmoid(), 0.5).float()\n",
    "            label = torch.squeeze(label).to(device)\n",
    "            score = dice_score(pred, label)\n",
    "            loss = criterion(out, label.type(torch.FloatTensor).to(device))\n",
    "\n",
    "            loss_meter.update(loss.item())\n",
    "            score_meter.update(score.item())\n",
    "\n",
    "        val_loss_mean = loss_meter.avg\n",
    "        val_score_mean = score_meter.avg\n",
    "        loss_meter.reset()\n",
    "        score_meter.reset()\n",
    "    return val_loss_mean, val_score_mean"
   ]
  },
  {
   "cell_type": "code",
   "execution_count": 28,
   "metadata": {
    "scrolled": true
   },
   "outputs": [],
   "source": [
    "def train(model, criterion, optimizer, train_loader, val_loader, scheduler, device):\n",
    "    best_score = 0\n",
    "    best_model = None\n",
    "    result_arr = np.empty((0,4), float)\n",
    "    columns = []\n",
    "    model.train()\n",
    "    for epoch in range(CFG[\"EPOCHS\"]):\n",
    "        try:\n",
    "            for img, label in tqdm(train_loader):\n",
    "                optimizer.zero_grad()\n",
    "                out = model(img.to(device))\n",
    "                out = torch.squeeze(out)\n",
    "                pred = torch.ge(out.sigmoid(), 0.5).float()\n",
    "                label = torch.squeeze(label).to(device)\n",
    "                score = dice_score(pred, label)\n",
    "                loss = criterion(out, label.type(torch.FloatTensor).to(device))\n",
    "\n",
    "                loss_meter.update(loss.item())\n",
    "                score_meter.update(score.item())\n",
    "\n",
    "                loss.backward()\n",
    "                optimizer.step()\n",
    "                \n",
    "            train_loss_mean = loss_meter.avg\n",
    "            train_score_mean = score_meter.avg\n",
    "            loss_meter.reset()\n",
    "            score_meter.reset()\n",
    "            val_loss, val_score = validation(model, criterion, val_loader, device)\n",
    "\n",
    "            print(f\"epoch{epoch+1}: Train_loss:{train_loss_mean} Train_score:{train_score_mean} Val_loss:{val_loss} Val_score:{val_score}\")\n",
    "            result_arr = np.append(result_arr, np.array([[train_loss_mean,train_score_mean, val_loss, val_score]]), axis = 0)\n",
    "            if scheduler is not None:\n",
    "                scheduler.step(val_score)\n",
    "                  \n",
    "            if best_score < val_score:\n",
    "                best_score = val_score\n",
    "                best_model = model\n",
    "                \n",
    "            early_stopping(val_score)\n",
    "            if early_stopping.early_stop:\n",
    "                columns.append(f\"epoch:{epoch+1}\")\n",
    "                print(\"Early stopping!\")\n",
    "                break\n",
    "        except KeyboardInterrupt:\n",
    "            best_model = model\n",
    "        columns.append(f\"epoch:{epoch+1}\")\n",
    "    return best_model, result_arr, columns"
   ]
  },
  {
   "attachments": {},
   "cell_type": "markdown",
   "metadata": {},
   "source": [
    "## Run"
   ]
  },
  {
   "cell_type": "code",
   "execution_count": 30,
   "metadata": {},
   "outputs": [
    {
     "data": {
      "application/vnd.jupyter.widget-view+json": {
       "model_id": "1e2a03d25eff4ddfbc600987688422ca",
       "version_major": 2,
       "version_minor": 0
      },
      "text/plain": [
       "  0%|          | 0/5 [00:00<?, ?it/s]"
      ]
     },
     "metadata": {},
     "output_type": "display_data"
    },
    {
     "data": {
      "application/vnd.jupyter.widget-view+json": {
       "model_id": "b9c43f434c414673b3295ccbc2ab984f",
       "version_major": 2,
       "version_minor": 0
      },
      "text/plain": [
       "  0%|          | 0/1 [00:00<?, ?it/s]"
      ]
     },
     "metadata": {},
     "output_type": "display_data"
    },
    {
     "name": "stdout",
     "output_type": "stream",
     "text": [
      "epoch1: Train_loss:0.9423257231712341 Train_score:0.1191076397895813 Val_loss:0.9282055497169495 Val_score:0.17908000946044922\n"
     ]
    },
    {
     "data": {
      "application/vnd.jupyter.widget-view+json": {
       "model_id": "33669152b8a640a9831234f45670c118",
       "version_major": 2,
       "version_minor": 0
      },
      "text/plain": [
       "  0%|          | 0/5 [00:00<?, ?it/s]"
      ]
     },
     "metadata": {},
     "output_type": "display_data"
    },
    {
     "data": {
      "application/vnd.jupyter.widget-view+json": {
       "model_id": "22ce7d7ba1e14e33ada97524c6087a61",
       "version_major": 2,
       "version_minor": 0
      },
      "text/plain": [
       "  0%|          | 0/1 [00:00<?, ?it/s]"
      ]
     },
     "metadata": {},
     "output_type": "display_data"
    },
    {
     "name": "stdout",
     "output_type": "stream",
     "text": [
      "epoch2: Train_loss:0.939379894733429 Train_score:0.13982914462685586 Val_loss:0.9188417792320251 Val_score:0.1855139583349228\n"
     ]
    },
    {
     "data": {
      "application/vnd.jupyter.widget-view+json": {
       "model_id": "2ffe2f3e3c53460aba409eeca18669f1",
       "version_major": 2,
       "version_minor": 0
      },
      "text/plain": [
       "  0%|          | 0/5 [00:00<?, ?it/s]"
      ]
     },
     "metadata": {},
     "output_type": "display_data"
    },
    {
     "data": {
      "application/vnd.jupyter.widget-view+json": {
       "model_id": "0a612c6314e04236a07d974d93cbb1ff",
       "version_major": 2,
       "version_minor": 0
      },
      "text/plain": [
       "  0%|          | 0/1 [00:00<?, ?it/s]"
      ]
     },
     "metadata": {},
     "output_type": "display_data"
    },
    {
     "name": "stdout",
     "output_type": "stream",
     "text": [
      "epoch3: Train_loss:0.9253128409385681 Train_score:0.13294050693511963 Val_loss:0.8907870650291443 Val_score:0.14869853854179382\n"
     ]
    },
    {
     "data": {
      "application/vnd.jupyter.widget-view+json": {
       "model_id": "988fdc123dd44e0a8885c11ab8c87402",
       "version_major": 2,
       "version_minor": 0
      },
      "text/plain": [
       "  0%|          | 0/5 [00:00<?, ?it/s]"
      ]
     },
     "metadata": {},
     "output_type": "display_data"
    },
    {
     "data": {
      "application/vnd.jupyter.widget-view+json": {
       "model_id": "1e55ea9a7d0c4341a25b3a2debd8a960",
       "version_major": 2,
       "version_minor": 0
      },
      "text/plain": [
       "  0%|          | 0/1 [00:00<?, ?it/s]"
      ]
     },
     "metadata": {},
     "output_type": "display_data"
    },
    {
     "name": "stdout",
     "output_type": "stream",
     "text": [
      "epoch4: Train_loss:0.9060354471206665 Train_score:0.13668514788150787 Val_loss:0.8732247352600098 Val_score:0.25083646178245544\n"
     ]
    },
    {
     "data": {
      "application/vnd.jupyter.widget-view+json": {
       "model_id": "5d6a72023d2045a9954758bd39a06d5c",
       "version_major": 2,
       "version_minor": 0
      },
      "text/plain": [
       "  0%|          | 0/5 [00:00<?, ?it/s]"
      ]
     },
     "metadata": {},
     "output_type": "display_data"
    },
    {
     "data": {
      "application/vnd.jupyter.widget-view+json": {
       "model_id": "f09464905793414f96a396f7e4d580dd",
       "version_major": 2,
       "version_minor": 0
      },
      "text/plain": [
       "  0%|          | 0/1 [00:00<?, ?it/s]"
      ]
     },
     "metadata": {},
     "output_type": "display_data"
    },
    {
     "name": "stdout",
     "output_type": "stream",
     "text": [
      "epoch5: Train_loss:0.8940851926803589 Train_score:0.1730954170227051 Val_loss:0.8475487232208252 Val_score:0.22588089108467102\n"
     ]
    },
    {
     "data": {
      "application/vnd.jupyter.widget-view+json": {
       "model_id": "45f6250af8ce4d289be472995cc3bba6",
       "version_major": 2,
       "version_minor": 0
      },
      "text/plain": [
       "  0%|          | 0/5 [00:00<?, ?it/s]"
      ]
     },
     "metadata": {},
     "output_type": "display_data"
    },
    {
     "data": {
      "application/vnd.jupyter.widget-view+json": {
       "model_id": "3bcea79fb6b440f2b9a620bc6768e6bc",
       "version_major": 2,
       "version_minor": 0
      },
      "text/plain": [
       "  0%|          | 0/1 [00:00<?, ?it/s]"
      ]
     },
     "metadata": {},
     "output_type": "display_data"
    },
    {
     "name": "stdout",
     "output_type": "stream",
     "text": [
      "epoch6: Train_loss:0.8716628074645996 Train_score:0.1882210612297058 Val_loss:0.8037372827529907 Val_score:0.28432658314704895\n"
     ]
    },
    {
     "data": {
      "application/vnd.jupyter.widget-view+json": {
       "model_id": "8915fe83067341fe9d56b6e7f3bb4208",
       "version_major": 2,
       "version_minor": 0
      },
      "text/plain": [
       "  0%|          | 0/5 [00:00<?, ?it/s]"
      ]
     },
     "metadata": {},
     "output_type": "display_data"
    },
    {
     "data": {
      "application/vnd.jupyter.widget-view+json": {
       "model_id": "567153361e7f428cbe04cc2d118916b1",
       "version_major": 2,
       "version_minor": 0
      },
      "text/plain": [
       "  0%|          | 0/1 [00:00<?, ?it/s]"
      ]
     },
     "metadata": {},
     "output_type": "display_data"
    },
    {
     "name": "stdout",
     "output_type": "stream",
     "text": [
      "epoch7: Train_loss:0.8536511421203613 Train_score:0.19618649538606406 Val_loss:0.7522713541984558 Val_score:0.28641483187675476\n"
     ]
    },
    {
     "data": {
      "application/vnd.jupyter.widget-view+json": {
       "model_id": "5e738f4e103e4303a0c4f9a9b947f4b7",
       "version_major": 2,
       "version_minor": 0
      },
      "text/plain": [
       "  0%|          | 0/5 [00:00<?, ?it/s]"
      ]
     },
     "metadata": {},
     "output_type": "display_data"
    },
    {
     "data": {
      "application/vnd.jupyter.widget-view+json": {
       "model_id": "207d00d7396f458da3fff1fa61dc995e",
       "version_major": 2,
       "version_minor": 0
      },
      "text/plain": [
       "  0%|          | 0/1 [00:00<?, ?it/s]"
      ]
     },
     "metadata": {},
     "output_type": "display_data"
    },
    {
     "name": "stdout",
     "output_type": "stream",
     "text": [
      "epoch8: Train_loss:0.8196867108345032 Train_score:0.22763811349868773 Val_loss:0.7757902145385742 Val_score:0.23527345061302185\n"
     ]
    },
    {
     "data": {
      "application/vnd.jupyter.widget-view+json": {
       "model_id": "c3539acece774a44b3264d29a0df7aa3",
       "version_major": 2,
       "version_minor": 0
      },
      "text/plain": [
       "  0%|          | 0/5 [00:00<?, ?it/s]"
      ]
     },
     "metadata": {},
     "output_type": "display_data"
    },
    {
     "data": {
      "application/vnd.jupyter.widget-view+json": {
       "model_id": "055a063a54854c09ab0cd21f67627449",
       "version_major": 2,
       "version_minor": 0
      },
      "text/plain": [
       "  0%|          | 0/1 [00:00<?, ?it/s]"
      ]
     },
     "metadata": {},
     "output_type": "display_data"
    },
    {
     "name": "stdout",
     "output_type": "stream",
     "text": [
      "epoch9: Train_loss:0.8209541320800782 Train_score:0.18741483390331268 Val_loss:0.7121372222900391 Val_score:0.325357586145401\n"
     ]
    },
    {
     "data": {
      "application/vnd.jupyter.widget-view+json": {
       "model_id": "872d8cb028614a48843337b77e8d3ac1",
       "version_major": 2,
       "version_minor": 0
      },
      "text/plain": [
       "  0%|          | 0/5 [00:00<?, ?it/s]"
      ]
     },
     "metadata": {},
     "output_type": "display_data"
    },
    {
     "data": {
      "application/vnd.jupyter.widget-view+json": {
       "model_id": "ffabb6afd7db44fa88b36ca4850bed7c",
       "version_major": 2,
       "version_minor": 0
      },
      "text/plain": [
       "  0%|          | 0/1 [00:00<?, ?it/s]"
      ]
     },
     "metadata": {},
     "output_type": "display_data"
    },
    {
     "name": "stdout",
     "output_type": "stream",
     "text": [
      "epoch10: Train_loss:0.775936508178711 Train_score:0.2229809992015362 Val_loss:0.7092995643615723 Val_score:0.300775945186615\n"
     ]
    },
    {
     "data": {
      "application/vnd.jupyter.widget-view+json": {
       "model_id": "2c8e8bcd4bde49918967820ac26b9d97",
       "version_major": 2,
       "version_minor": 0
      },
      "text/plain": [
       "  0%|          | 0/5 [00:00<?, ?it/s]"
      ]
     },
     "metadata": {},
     "output_type": "display_data"
    },
    {
     "data": {
      "application/vnd.jupyter.widget-view+json": {
       "model_id": "2d64504ac19d49d5a096e3f5535fa7f0",
       "version_major": 2,
       "version_minor": 0
      },
      "text/plain": [
       "  0%|          | 0/1 [00:00<?, ?it/s]"
      ]
     },
     "metadata": {},
     "output_type": "display_data"
    },
    {
     "name": "stdout",
     "output_type": "stream",
     "text": [
      "epoch11: Train_loss:0.7952760934829712 Train_score:0.2115519478917122 Val_loss:0.7468382120132446 Val_score:0.25412607192993164\n"
     ]
    },
    {
     "data": {
      "application/vnd.jupyter.widget-view+json": {
       "model_id": "b18b7c6166274985a78c1814e3e8a4c6",
       "version_major": 2,
       "version_minor": 0
      },
      "text/plain": [
       "  0%|          | 0/5 [00:00<?, ?it/s]"
      ]
     },
     "metadata": {},
     "output_type": "display_data"
    },
    {
     "data": {
      "application/vnd.jupyter.widget-view+json": {
       "model_id": "ee9814b3903a470f99ab7a75c377993e",
       "version_major": 2,
       "version_minor": 0
      },
      "text/plain": [
       "  0%|          | 0/1 [00:00<?, ?it/s]"
      ]
     },
     "metadata": {},
     "output_type": "display_data"
    },
    {
     "name": "stdout",
     "output_type": "stream",
     "text": [
      "epoch12: Train_loss:0.8066982626914978 Train_score:0.19375663697719575 Val_loss:0.7166542410850525 Val_score:0.28816789388656616\n",
      "Epoch 00012: reducing learning rate of group 0 to 5.0000e-05.\n"
     ]
    },
    {
     "data": {
      "application/vnd.jupyter.widget-view+json": {
       "model_id": "1f7337977c084741923d3e5b1cd9e57c",
       "version_major": 2,
       "version_minor": 0
      },
      "text/plain": [
       "  0%|          | 0/5 [00:00<?, ?it/s]"
      ]
     },
     "metadata": {},
     "output_type": "display_data"
    },
    {
     "data": {
      "application/vnd.jupyter.widget-view+json": {
       "model_id": "f73e7ffd6a394909898f65da21bf3d7d",
       "version_major": 2,
       "version_minor": 0
      },
      "text/plain": [
       "  0%|          | 0/1 [00:00<?, ?it/s]"
      ]
     },
     "metadata": {},
     "output_type": "display_data"
    },
    {
     "name": "stdout",
     "output_type": "stream",
     "text": [
      "epoch13: Train_loss:0.8208000540733338 Train_score:0.16508877066662536 Val_loss:0.7190430164337158 Val_score:0.2856544852256775\n"
     ]
    },
    {
     "data": {
      "application/vnd.jupyter.widget-view+json": {
       "model_id": "056ea65452a9467fad27d90609e06663",
       "version_major": 2,
       "version_minor": 0
      },
      "text/plain": [
       "  0%|          | 0/5 [00:00<?, ?it/s]"
      ]
     },
     "metadata": {},
     "output_type": "display_data"
    },
    {
     "data": {
      "application/vnd.jupyter.widget-view+json": {
       "model_id": "932651614f3245988cb770f993f21639",
       "version_major": 2,
       "version_minor": 0
      },
      "text/plain": [
       "  0%|          | 0/1 [00:00<?, ?it/s]"
      ]
     },
     "metadata": {},
     "output_type": "display_data"
    },
    {
     "name": "stdout",
     "output_type": "stream",
     "text": [
      "epoch14: Train_loss:0.7547554135322571 Train_score:0.2512374438345432 Val_loss:0.732578694820404 Val_score:0.27053970098495483\n"
     ]
    },
    {
     "data": {
      "application/vnd.jupyter.widget-view+json": {
       "model_id": "92ce975367f34affb9bb8679335f181b",
       "version_major": 2,
       "version_minor": 0
      },
      "text/plain": [
       "  0%|          | 0/5 [00:00<?, ?it/s]"
      ]
     },
     "metadata": {},
     "output_type": "display_data"
    },
    {
     "data": {
      "application/vnd.jupyter.widget-view+json": {
       "model_id": "70cfe72776f140d59360a455f60b72b1",
       "version_major": 2,
       "version_minor": 0
      },
      "text/plain": [
       "  0%|          | 0/1 [00:00<?, ?it/s]"
      ]
     },
     "metadata": {},
     "output_type": "display_data"
    },
    {
     "name": "stdout",
     "output_type": "stream",
     "text": [
      "epoch15: Train_loss:0.7831813573837281 Train_score:0.21949816644191741 Val_loss:0.7425256371498108 Val_score:0.2667272984981537\n",
      "Epoch 00015: reducing learning rate of group 0 to 2.5000e-05.\n"
     ]
    },
    {
     "data": {
      "application/vnd.jupyter.widget-view+json": {
       "model_id": "9437e96219144d62916d39d119abeb10",
       "version_major": 2,
       "version_minor": 0
      },
      "text/plain": [
       "  0%|          | 0/5 [00:00<?, ?it/s]"
      ]
     },
     "metadata": {},
     "output_type": "display_data"
    },
    {
     "data": {
      "application/vnd.jupyter.widget-view+json": {
       "model_id": "b5bd53024ddc45fd93b4735b883df4fb",
       "version_major": 2,
       "version_minor": 0
      },
      "text/plain": [
       "  0%|          | 0/1 [00:00<?, ?it/s]"
      ]
     },
     "metadata": {},
     "output_type": "display_data"
    },
    {
     "name": "stdout",
     "output_type": "stream",
     "text": [
      "epoch16: Train_loss:0.7664194703102112 Train_score:0.25653803125023844 Val_loss:0.7447776794433594 Val_score:0.26657378673553467\n"
     ]
    },
    {
     "data": {
      "application/vnd.jupyter.widget-view+json": {
       "model_id": "8eb0c3b549c14fbe83afe83c63ca8da3",
       "version_major": 2,
       "version_minor": 0
      },
      "text/plain": [
       "  0%|          | 0/5 [00:00<?, ?it/s]"
      ]
     },
     "metadata": {},
     "output_type": "display_data"
    },
    {
     "data": {
      "application/vnd.jupyter.widget-view+json": {
       "model_id": "5281a20899134e2c9d008ab41ceb9af7",
       "version_major": 2,
       "version_minor": 0
      },
      "text/plain": [
       "  0%|          | 0/1 [00:00<?, ?it/s]"
      ]
     },
     "metadata": {},
     "output_type": "display_data"
    },
    {
     "name": "stdout",
     "output_type": "stream",
     "text": [
      "epoch17: Train_loss:0.7767355084419251 Train_score:0.2341076873242855 Val_loss:0.7330923080444336 Val_score:0.2712305784225464\n"
     ]
    },
    {
     "data": {
      "application/vnd.jupyter.widget-view+json": {
       "model_id": "db3028a42e4c42e892a8514b8d15d3be",
       "version_major": 2,
       "version_minor": 0
      },
      "text/plain": [
       "  0%|          | 0/5 [00:00<?, ?it/s]"
      ]
     },
     "metadata": {},
     "output_type": "display_data"
    },
    {
     "data": {
      "application/vnd.jupyter.widget-view+json": {
       "model_id": "a478660f6f48447ba0a67dc881959606",
       "version_major": 2,
       "version_minor": 0
      },
      "text/plain": [
       "  0%|          | 0/1 [00:00<?, ?it/s]"
      ]
     },
     "metadata": {},
     "output_type": "display_data"
    },
    {
     "name": "stdout",
     "output_type": "stream",
     "text": [
      "epoch18: Train_loss:0.7593423843383789 Train_score:0.24868523180484772 Val_loss:0.7307018637657166 Val_score:0.2729690968990326\n",
      "Epoch 00018: reducing learning rate of group 0 to 1.2500e-05.\n"
     ]
    },
    {
     "data": {
      "application/vnd.jupyter.widget-view+json": {
       "model_id": "bddbb76619b346c684fcf9afa65836ec",
       "version_major": 2,
       "version_minor": 0
      },
      "text/plain": [
       "  0%|          | 0/5 [00:00<?, ?it/s]"
      ]
     },
     "metadata": {},
     "output_type": "display_data"
    },
    {
     "data": {
      "application/vnd.jupyter.widget-view+json": {
       "model_id": "60ca894c64834708980c9ee32c20e0cf",
       "version_major": 2,
       "version_minor": 0
      },
      "text/plain": [
       "  0%|          | 0/1 [00:00<?, ?it/s]"
      ]
     },
     "metadata": {},
     "output_type": "display_data"
    },
    {
     "name": "stdout",
     "output_type": "stream",
     "text": [
      "epoch19: Train_loss:0.7514586925506592 Train_score:0.25704007148742675 Val_loss:0.7292638421058655 Val_score:0.27540305256843567\n"
     ]
    },
    {
     "data": {
      "application/vnd.jupyter.widget-view+json": {
       "model_id": "d5e0a5451ce94002b44d6faf39321c62",
       "version_major": 2,
       "version_minor": 0
      },
      "text/plain": [
       "  0%|          | 0/5 [00:00<?, ?it/s]"
      ]
     },
     "metadata": {},
     "output_type": "display_data"
    },
    {
     "data": {
      "application/vnd.jupyter.widget-view+json": {
       "model_id": "992377b740374aeeaef7e4240496a10c",
       "version_major": 2,
       "version_minor": 0
      },
      "text/plain": [
       "  0%|          | 0/1 [00:00<?, ?it/s]"
      ]
     },
     "metadata": {},
     "output_type": "display_data"
    },
    {
     "name": "stdout",
     "output_type": "stream",
     "text": [
      "epoch20: Train_loss:0.7492264151573181 Train_score:0.26376849561929705 Val_loss:0.7296237945556641 Val_score:0.2789610028266907\n"
     ]
    },
    {
     "data": {
      "application/vnd.jupyter.widget-view+json": {
       "model_id": "0649ffab97c44bc39fd6d664df297466",
       "version_major": 2,
       "version_minor": 0
      },
      "text/plain": [
       "  0%|          | 0/5 [00:00<?, ?it/s]"
      ]
     },
     "metadata": {},
     "output_type": "display_data"
    },
    {
     "data": {
      "application/vnd.jupyter.widget-view+json": {
       "model_id": "7423535aff7b4de8b7b4b39abd3a47da",
       "version_major": 2,
       "version_minor": 0
      },
      "text/plain": [
       "  0%|          | 0/1 [00:00<?, ?it/s]"
      ]
     },
     "metadata": {},
     "output_type": "display_data"
    },
    {
     "name": "stdout",
     "output_type": "stream",
     "text": [
      "epoch21: Train_loss:0.7305923938751221 Train_score:0.30431071370840074 Val_loss:0.7295126914978027 Val_score:0.28015074133872986\n",
      "Epoch 00021: reducing learning rate of group 0 to 6.2500e-06.\n"
     ]
    },
    {
     "data": {
      "application/vnd.jupyter.widget-view+json": {
       "model_id": "644d32ac79ba4408952cd48eb7f1473e",
       "version_major": 2,
       "version_minor": 0
      },
      "text/plain": [
       "  0%|          | 0/5 [00:00<?, ?it/s]"
      ]
     },
     "metadata": {},
     "output_type": "display_data"
    },
    {
     "data": {
      "application/vnd.jupyter.widget-view+json": {
       "model_id": "b55737162bf84de39f72a75bd8bcc83a",
       "version_major": 2,
       "version_minor": 0
      },
      "text/plain": [
       "  0%|          | 0/1 [00:00<?, ?it/s]"
      ]
     },
     "metadata": {},
     "output_type": "display_data"
    },
    {
     "name": "stdout",
     "output_type": "stream",
     "text": [
      "epoch22: Train_loss:0.7300073027610778 Train_score:0.2960523650050163 Val_loss:0.7267400622367859 Val_score:0.28206008672714233\n"
     ]
    },
    {
     "data": {
      "application/vnd.jupyter.widget-view+json": {
       "model_id": "7f45b00575484ae8a64dc10eeb01cae7",
       "version_major": 2,
       "version_minor": 0
      },
      "text/plain": [
       "  0%|          | 0/5 [00:00<?, ?it/s]"
      ]
     },
     "metadata": {},
     "output_type": "display_data"
    },
    {
     "data": {
      "application/vnd.jupyter.widget-view+json": {
       "model_id": "b9e38274030c45e6946a8460f905c48b",
       "version_major": 2,
       "version_minor": 0
      },
      "text/plain": [
       "  0%|          | 0/1 [00:00<?, ?it/s]"
      ]
     },
     "metadata": {},
     "output_type": "display_data"
    },
    {
     "name": "stdout",
     "output_type": "stream",
     "text": [
      "epoch23: Train_loss:0.7264844417572022 Train_score:0.28978596329689027 Val_loss:0.7244489192962646 Val_score:0.28350022435188293\n"
     ]
    },
    {
     "data": {
      "application/vnd.jupyter.widget-view+json": {
       "model_id": "c90d6c0e7e7b4ce3808b07a6e7a13854",
       "version_major": 2,
       "version_minor": 0
      },
      "text/plain": [
       "  0%|          | 0/5 [00:00<?, ?it/s]"
      ]
     },
     "metadata": {},
     "output_type": "display_data"
    },
    {
     "data": {
      "application/vnd.jupyter.widget-view+json": {
       "model_id": "0fc8d151fdf14f19a01df53bdfab88e9",
       "version_major": 2,
       "version_minor": 0
      },
      "text/plain": [
       "  0%|          | 0/1 [00:00<?, ?it/s]"
      ]
     },
     "metadata": {},
     "output_type": "display_data"
    },
    {
     "name": "stdout",
     "output_type": "stream",
     "text": [
      "epoch24: Train_loss:0.724093246459961 Train_score:0.2882749758660793 Val_loss:0.7249590158462524 Val_score:0.2831963300704956\n",
      "Epoch 00024: reducing learning rate of group 0 to 3.1250e-06.\n"
     ]
    },
    {
     "data": {
      "application/vnd.jupyter.widget-view+json": {
       "model_id": "a0390d8bf786461c9283c0f8a3c8084e",
       "version_major": 2,
       "version_minor": 0
      },
      "text/plain": [
       "  0%|          | 0/5 [00:00<?, ?it/s]"
      ]
     },
     "metadata": {},
     "output_type": "display_data"
    },
    {
     "data": {
      "application/vnd.jupyter.widget-view+json": {
       "model_id": "77e4ccba4a994e76a7e91575f815af93",
       "version_major": 2,
       "version_minor": 0
      },
      "text/plain": [
       "  0%|          | 0/1 [00:00<?, ?it/s]"
      ]
     },
     "metadata": {},
     "output_type": "display_data"
    },
    {
     "name": "stdout",
     "output_type": "stream",
     "text": [
      "epoch25: Train_loss:0.7458786487579345 Train_score:0.26459635347127913 Val_loss:0.7263747453689575 Val_score:0.2843337953090668\n"
     ]
    },
    {
     "data": {
      "application/vnd.jupyter.widget-view+json": {
       "model_id": "8e7b0c7abdfd4d1882b5fbb3e8c83509",
       "version_major": 2,
       "version_minor": 0
      },
      "text/plain": [
       "  0%|          | 0/5 [00:00<?, ?it/s]"
      ]
     },
     "metadata": {},
     "output_type": "display_data"
    },
    {
     "data": {
      "application/vnd.jupyter.widget-view+json": {
       "model_id": "d94abbcd1d9e4a04955cbbc71831f9db",
       "version_major": 2,
       "version_minor": 0
      },
      "text/plain": [
       "  0%|          | 0/1 [00:00<?, ?it/s]"
      ]
     },
     "metadata": {},
     "output_type": "display_data"
    },
    {
     "name": "stdout",
     "output_type": "stream",
     "text": [
      "epoch26: Train_loss:0.7602222561836243 Train_score:0.24838037528097628 Val_loss:0.7279654741287231 Val_score:0.28249257802963257\n"
     ]
    },
    {
     "data": {
      "application/vnd.jupyter.widget-view+json": {
       "model_id": "4412999e395d47b2a35133a6fc22411a",
       "version_major": 2,
       "version_minor": 0
      },
      "text/plain": [
       "  0%|          | 0/5 [00:00<?, ?it/s]"
      ]
     },
     "metadata": {},
     "output_type": "display_data"
    },
    {
     "data": {
      "application/vnd.jupyter.widget-view+json": {
       "model_id": "2827486badd44d2a9af7b3eee77777c6",
       "version_major": 2,
       "version_minor": 0
      },
      "text/plain": [
       "  0%|          | 0/1 [00:00<?, ?it/s]"
      ]
     },
     "metadata": {},
     "output_type": "display_data"
    },
    {
     "name": "stdout",
     "output_type": "stream",
     "text": [
      "epoch27: Train_loss:0.7359941124916076 Train_score:0.29015429615974425 Val_loss:0.7297107577323914 Val_score:0.28268876671791077\n",
      "Epoch 00027: reducing learning rate of group 0 to 1.5625e-06.\n"
     ]
    },
    {
     "data": {
      "application/vnd.jupyter.widget-view+json": {
       "model_id": "28dc8a91ea644b7abfb37de1045a36e7",
       "version_major": 2,
       "version_minor": 0
      },
      "text/plain": [
       "  0%|          | 0/5 [00:00<?, ?it/s]"
      ]
     },
     "metadata": {},
     "output_type": "display_data"
    },
    {
     "data": {
      "application/vnd.jupyter.widget-view+json": {
       "model_id": "969463b9502e43729ab7901b1dff541d",
       "version_major": 2,
       "version_minor": 0
      },
      "text/plain": [
       "  0%|          | 0/1 [00:00<?, ?it/s]"
      ]
     },
     "metadata": {},
     "output_type": "display_data"
    },
    {
     "name": "stdout",
     "output_type": "stream",
     "text": [
      "epoch28: Train_loss:0.7401815891265869 Train_score:0.290051418915391 Val_loss:0.7313088178634644 Val_score:0.28231826424598694\n"
     ]
    },
    {
     "data": {
      "application/vnd.jupyter.widget-view+json": {
       "model_id": "8ec3dfb5ae9f40ee8d0abbcea68b43ef",
       "version_major": 2,
       "version_minor": 0
      },
      "text/plain": [
       "  0%|          | 0/5 [00:00<?, ?it/s]"
      ]
     },
     "metadata": {},
     "output_type": "display_data"
    },
    {
     "data": {
      "application/vnd.jupyter.widget-view+json": {
       "model_id": "cf805dfedb564fcfb0d40933122058b7",
       "version_major": 2,
       "version_minor": 0
      },
      "text/plain": [
       "  0%|          | 0/1 [00:00<?, ?it/s]"
      ]
     },
     "metadata": {},
     "output_type": "display_data"
    },
    {
     "name": "stdout",
     "output_type": "stream",
     "text": [
      "epoch29: Train_loss:0.7208693265914917 Train_score:0.3101338632404804 Val_loss:0.7328327894210815 Val_score:0.2809297442436218\n",
      "Early stopping!\n"
     ]
    }
   ],
   "source": [
    "infer_model, result, columns = train(model, criterion, optimizer, train_loader, val_loader, scheduler, device)"
   ]
  },
  {
   "attachments": {},
   "cell_type": "markdown",
   "metadata": {},
   "source": [
    "## 결과 그래프"
   ]
  },
  {
   "cell_type": "code",
   "execution_count": 31,
   "metadata": {},
   "outputs": [
    {
     "data": {
      "text/html": [
       "<div>\n",
       "<style scoped>\n",
       "    .dataframe tbody tr th:only-of-type {\n",
       "        vertical-align: middle;\n",
       "    }\n",
       "\n",
       "    .dataframe tbody tr th {\n",
       "        vertical-align: top;\n",
       "    }\n",
       "\n",
       "    .dataframe thead th {\n",
       "        text-align: right;\n",
       "    }\n",
       "</style>\n",
       "<table border=\"1\" class=\"dataframe\">\n",
       "  <thead>\n",
       "    <tr style=\"text-align: right;\">\n",
       "      <th></th>\n",
       "      <th>Train Loss</th>\n",
       "      <th>Train Dice Score</th>\n",
       "      <th>Validation Loss</th>\n",
       "      <th>Validation Dice Score</th>\n",
       "    </tr>\n",
       "  </thead>\n",
       "  <tbody>\n",
       "    <tr>\n",
       "      <th>epoch:25</th>\n",
       "      <td>0.745879</td>\n",
       "      <td>0.264596</td>\n",
       "      <td>0.726375</td>\n",
       "      <td>0.284334</td>\n",
       "    </tr>\n",
       "    <tr>\n",
       "      <th>epoch:26</th>\n",
       "      <td>0.760222</td>\n",
       "      <td>0.248380</td>\n",
       "      <td>0.727965</td>\n",
       "      <td>0.282493</td>\n",
       "    </tr>\n",
       "    <tr>\n",
       "      <th>epoch:27</th>\n",
       "      <td>0.735994</td>\n",
       "      <td>0.290154</td>\n",
       "      <td>0.729711</td>\n",
       "      <td>0.282689</td>\n",
       "    </tr>\n",
       "    <tr>\n",
       "      <th>epoch:28</th>\n",
       "      <td>0.740182</td>\n",
       "      <td>0.290051</td>\n",
       "      <td>0.731309</td>\n",
       "      <td>0.282318</td>\n",
       "    </tr>\n",
       "    <tr>\n",
       "      <th>epoch:29</th>\n",
       "      <td>0.720869</td>\n",
       "      <td>0.310134</td>\n",
       "      <td>0.732833</td>\n",
       "      <td>0.280930</td>\n",
       "    </tr>\n",
       "  </tbody>\n",
       "</table>\n",
       "</div>"
      ],
      "text/plain": [
       "          Train Loss  Train Dice Score  Validation Loss  Validation Dice Score\n",
       "epoch:25    0.745879          0.264596         0.726375               0.284334\n",
       "epoch:26    0.760222          0.248380         0.727965               0.282493\n",
       "epoch:27    0.735994          0.290154         0.729711               0.282689\n",
       "epoch:28    0.740182          0.290051         0.731309               0.282318\n",
       "epoch:29    0.720869          0.310134         0.732833               0.280930"
      ]
     },
     "execution_count": 31,
     "metadata": {},
     "output_type": "execute_result"
    }
   ],
   "source": [
    "result_df = pd.DataFrame(data = result, index = columns, columns = [\"Train Loss\", \"Train Dice Score\", \"Validation Loss\", \"Validation Dice Score\"])\n",
    "result_df.tail()"
   ]
  },
  {
   "cell_type": "code",
   "execution_count": 32,
   "metadata": {},
   "outputs": [
    {
     "data": {
      "text/plain": [
       "<Axes: >"
      ]
     },
     "execution_count": 32,
     "metadata": {},
     "output_type": "execute_result"
    },
    {
     "data": {
      "image/png": "[encoded data removed]",
      "text/plain": [
       "<Figure size 640x480 with 1 Axes>"
      ]
     },
     "metadata": {},
     "output_type": "display_data"
    }
   ],
   "source": [
    "result_df[[\"Train Dice Score\", \"Validation Dice Score\"]].plot()"
   ]
  },
  {
   "cell_type": "code",
   "execution_count": 33,
   "metadata": {},
   "outputs": [
    {
     "data": {
      "text/plain": [
       "<Axes: >"
      ]
     },
     "execution_count": 33,
     "metadata": {},
     "output_type": "execute_result"
    },
    {
     "data": {
      "image/png": "[encoded data removed]",
      "text/plain": [
       "<Figure size 640x480 with 1 Axes>"
      ]
     },
     "metadata": {},
     "output_type": "display_data"
    }
   ],
   "source": [
    "result_df[[\"Train Loss\", \"Validation Loss\"]].plot()"
   ]
  },
  {
   "attachments": {},
   "cell_type": "markdown",
   "metadata": {},
   "source": [
    "## 결과 저장"
   ]
  },
  {
   "cell_type": "code",
   "execution_count": null,
   "metadata": {},
   "outputs": [],
   "source": [
    "# 데이터프레임 저장\n",
    "os.makedirs(f\"{output_path}\", exist_ok=True)\n",
    "os.makedirs(f\"{trainframe_path}\", exist_ok=True)\n",
    "result_df.to_excel(f\"{trainframe_name}\")"
   ]
  },
  {
   "cell_type": "code",
   "execution_count": 34,
   "metadata": {},
   "outputs": [],
   "source": [
    "# 모델 저장\n",
    "os.makedirs(f\"{pth_path}\", exist_ok=True)\n",
    "torch.save(infer_model.state_dict(), pth_name)"
   ]
  }
 ],
 "metadata": {
  "kernelspec": {
   "display_name": "Python 3 (ipykernel)",
   "language": "python",
   "name": "python3"
  },
  "language_info": {
   "codemirror_mode": {
    "name": "ipython",
    "version": 3
   },
   "file_extension": ".py",
   "mimetype": "text/x-python",
   "name": "python",
   "nbconvert_exporter": "python",
   "pygments_lexer": "ipython3",
   "version": "3.10.11"
  }
 },
 "nbformat": 4,
 "nbformat_minor": 2
}
